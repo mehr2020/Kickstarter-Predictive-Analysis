{
 "cells": [
  {
   "cell_type": "code",
   "execution_count": 1,
   "metadata": {
    "collapsed": true
   },
   "outputs": [],
   "source": [
    "import re\n",
    "import pandas as pd\n",
    "import numpy as np\n",
    "import seaborn as sns\n",
    "import datetime\n",
    "import matplotlib.pyplot as plt\n",
    "\n",
    "%matplotlib inline"
   ]
  },
  {
   "cell_type": "code",
   "execution_count": 140,
   "metadata": {},
   "outputs": [
    {
     "data": {
      "text/html": [
       "<div>\n",
       "<style>\n",
       "    .dataframe thead tr:only-child th {\n",
       "        text-align: right;\n",
       "    }\n",
       "\n",
       "    .dataframe thead th {\n",
       "        text-align: left;\n",
       "    }\n",
       "\n",
       "    .dataframe tbody tr th {\n",
       "        vertical-align: top;\n",
       "    }\n",
       "</style>\n",
       "<table border=\"1\" class=\"dataframe\">\n",
       "  <thead>\n",
       "    <tr style=\"text-align: right;\">\n",
       "      <th></th>\n",
       "      <th>project id</th>\n",
       "      <th>name</th>\n",
       "      <th>url</th>\n",
       "      <th>category</th>\n",
       "      <th>subcategory</th>\n",
       "      <th>location</th>\n",
       "      <th>status</th>\n",
       "      <th>goal</th>\n",
       "      <th>pledged</th>\n",
       "      <th>funded percentage</th>\n",
       "      <th>backers</th>\n",
       "      <th>funded date</th>\n",
       "      <th>levels</th>\n",
       "      <th>reward levels</th>\n",
       "      <th>updates</th>\n",
       "      <th>comments</th>\n",
       "      <th>duration</th>\n",
       "    </tr>\n",
       "  </thead>\n",
       "  <tbody>\n",
       "    <tr>\n",
       "      <th>0</th>\n",
       "      <td>39409</td>\n",
       "      <td>WHILE THE TREES SLEEP</td>\n",
       "      <td>http://www.kickstarter.com/projects/emiliesaba...</td>\n",
       "      <td>Film &amp; Video</td>\n",
       "      <td>Short Film</td>\n",
       "      <td>Columbia, MO</td>\n",
       "      <td>successful</td>\n",
       "      <td>10500.0</td>\n",
       "      <td>11545.0</td>\n",
       "      <td>1.099524</td>\n",
       "      <td>66</td>\n",
       "      <td>Fri, 19 Aug 2011 19:28:17 -0000</td>\n",
       "      <td>7</td>\n",
       "      <td>$25,$50,$100,$250,$500,$1,000,$2,500</td>\n",
       "      <td>10</td>\n",
       "      <td>2</td>\n",
       "      <td>30.00</td>\n",
       "    </tr>\n",
       "    <tr>\n",
       "      <th>1</th>\n",
       "      <td>126581</td>\n",
       "      <td>Educational Online Trading Card Game</td>\n",
       "      <td>http://www.kickstarter.com/projects/972789543/...</td>\n",
       "      <td>Games</td>\n",
       "      <td>Board &amp; Card Games</td>\n",
       "      <td>Maplewood, NJ</td>\n",
       "      <td>failed</td>\n",
       "      <td>4000.0</td>\n",
       "      <td>20.0</td>\n",
       "      <td>0.005000</td>\n",
       "      <td>2</td>\n",
       "      <td>Mon, 02 Aug 2010 03:59:00 -0000</td>\n",
       "      <td>5</td>\n",
       "      <td>$1,$5,$10,$25,$50</td>\n",
       "      <td>6</td>\n",
       "      <td>0</td>\n",
       "      <td>47.18</td>\n",
       "    </tr>\n",
       "    <tr>\n",
       "      <th>2</th>\n",
       "      <td>138119</td>\n",
       "      <td>STRUM</td>\n",
       "      <td>http://www.kickstarter.com/projects/185476022/...</td>\n",
       "      <td>Film &amp; Video</td>\n",
       "      <td>Animation</td>\n",
       "      <td>Los Angeles, CA</td>\n",
       "      <td>live</td>\n",
       "      <td>20000.0</td>\n",
       "      <td>56.0</td>\n",
       "      <td>0.002800</td>\n",
       "      <td>3</td>\n",
       "      <td>Fri, 08 Jun 2012 00:00:31 -0000</td>\n",
       "      <td>10</td>\n",
       "      <td>$1,$10,$25,$40,$50,$100,$250,$1,000,$1,337,$9,001</td>\n",
       "      <td>1</td>\n",
       "      <td>0</td>\n",
       "      <td>28.00</td>\n",
       "    </tr>\n",
       "    <tr>\n",
       "      <th>3</th>\n",
       "      <td>237090</td>\n",
       "      <td>GETTING OVER - One son's search to finally kno...</td>\n",
       "      <td>http://www.kickstarter.com/projects/charnick/g...</td>\n",
       "      <td>Film &amp; Video</td>\n",
       "      <td>Documentary</td>\n",
       "      <td>Los Angeles, CA</td>\n",
       "      <td>successful</td>\n",
       "      <td>6000.0</td>\n",
       "      <td>6535.0</td>\n",
       "      <td>1.089167</td>\n",
       "      <td>100</td>\n",
       "      <td>Sun, 08 Apr 2012 02:14:00 -0000</td>\n",
       "      <td>13</td>\n",
       "      <td>$1,$10,$25,$30,$50,$75,$85,$100,$110,$250,$500...</td>\n",
       "      <td>4</td>\n",
       "      <td>0</td>\n",
       "      <td>32.22</td>\n",
       "    </tr>\n",
       "    <tr>\n",
       "      <th>4</th>\n",
       "      <td>246101</td>\n",
       "      <td>The Launch of FlyeGrlRoyalty &amp;quot;The New Nam...</td>\n",
       "      <td>http://www.kickstarter.com/projects/flyegrlroy...</td>\n",
       "      <td>Fashion</td>\n",
       "      <td>Fashion</td>\n",
       "      <td>Novi, MI</td>\n",
       "      <td>failed</td>\n",
       "      <td>3500.0</td>\n",
       "      <td>0.0</td>\n",
       "      <td>0.000000</td>\n",
       "      <td>0</td>\n",
       "      <td>Wed, 01 Jun 2011 15:25:39 -0000</td>\n",
       "      <td>6</td>\n",
       "      <td>$10,$25,$50,$100,$150,$250</td>\n",
       "      <td>2</td>\n",
       "      <td>0</td>\n",
       "      <td>30.00</td>\n",
       "    </tr>\n",
       "  </tbody>\n",
       "</table>\n",
       "</div>"
      ],
      "text/plain": [
       "   project id                                               name  \\\n",
       "0       39409                              WHILE THE TREES SLEEP   \n",
       "1      126581               Educational Online Trading Card Game   \n",
       "2      138119                                              STRUM   \n",
       "3      237090  GETTING OVER - One son's search to finally kno...   \n",
       "4      246101  The Launch of FlyeGrlRoyalty &quot;The New Nam...   \n",
       "\n",
       "                                                 url      category  \\\n",
       "0  http://www.kickstarter.com/projects/emiliesaba...  Film & Video   \n",
       "1  http://www.kickstarter.com/projects/972789543/...         Games   \n",
       "2  http://www.kickstarter.com/projects/185476022/...  Film & Video   \n",
       "3  http://www.kickstarter.com/projects/charnick/g...  Film & Video   \n",
       "4  http://www.kickstarter.com/projects/flyegrlroy...       Fashion   \n",
       "\n",
       "          subcategory         location      status     goal  pledged  \\\n",
       "0          Short Film     Columbia, MO  successful  10500.0  11545.0   \n",
       "1  Board & Card Games    Maplewood, NJ      failed   4000.0     20.0   \n",
       "2           Animation  Los Angeles, CA        live  20000.0     56.0   \n",
       "3         Documentary  Los Angeles, CA  successful   6000.0   6535.0   \n",
       "4             Fashion         Novi, MI      failed   3500.0      0.0   \n",
       "\n",
       "   funded percentage  backers                      funded date  levels  \\\n",
       "0           1.099524       66  Fri, 19 Aug 2011 19:28:17 -0000       7   \n",
       "1           0.005000        2  Mon, 02 Aug 2010 03:59:00 -0000       5   \n",
       "2           0.002800        3  Fri, 08 Jun 2012 00:00:31 -0000      10   \n",
       "3           1.089167      100  Sun, 08 Apr 2012 02:14:00 -0000      13   \n",
       "4           0.000000        0  Wed, 01 Jun 2011 15:25:39 -0000       6   \n",
       "\n",
       "                                       reward levels  updates  comments  \\\n",
       "0               $25,$50,$100,$250,$500,$1,000,$2,500       10         2   \n",
       "1                                  $1,$5,$10,$25,$50        6         0   \n",
       "2  $1,$10,$25,$40,$50,$100,$250,$1,000,$1,337,$9,001        1         0   \n",
       "3  $1,$10,$25,$30,$50,$75,$85,$100,$110,$250,$500...        4         0   \n",
       "4                         $10,$25,$50,$100,$150,$250        2         0   \n",
       "\n",
       "   duration  \n",
       "0     30.00  \n",
       "1     47.18  \n",
       "2     28.00  \n",
       "3     32.22  \n",
       "4     30.00  "
      ]
     },
     "execution_count": 140,
     "metadata": {},
     "output_type": "execute_result"
    }
   ],
   "source": [
    "df = pd.read_csv('DSI_kickstarterscrape_dataset.csv')\n",
    "df.head()"
   ]
  },
  {
   "cell_type": "code",
   "execution_count": 3,
   "metadata": {},
   "outputs": [
    {
     "data": {
      "text/plain": [
       "(45957, 17)"
      ]
     },
     "execution_count": 3,
     "metadata": {},
     "output_type": "execute_result"
    }
   ],
   "source": [
    "df.shape"
   ]
  },
  {
   "cell_type": "code",
   "execution_count": 4,
   "metadata": {},
   "outputs": [
    {
     "data": {
      "text/plain": [
       "successful    22969\n",
       "failed        18996\n",
       "live           3929\n",
       "canceled         59\n",
       "suspended         4\n",
       "Name: status, dtype: int64"
      ]
     },
     "execution_count": 4,
     "metadata": {},
     "output_type": "execute_result"
    }
   ],
   "source": [
    "df.status.value_counts()"
   ]
  },
  {
   "cell_type": "code",
   "execution_count": 5,
   "metadata": {},
   "outputs": [
    {
     "data": {
      "text/plain": [
       "project id             int64\n",
       "name                  object\n",
       "url                   object\n",
       "category              object\n",
       "subcategory           object\n",
       "location              object\n",
       "status                object\n",
       "goal                 float64\n",
       "pledged              float64\n",
       "funded percentage    float64\n",
       "backers                int64\n",
       "funded date           object\n",
       "levels                 int64\n",
       "reward levels         object\n",
       "updates                int64\n",
       "comments               int64\n",
       "duration             float64\n",
       "dtype: object"
      ]
     },
     "execution_count": 5,
     "metadata": {},
     "output_type": "execute_result"
    }
   ],
   "source": [
    "df.dtypes"
   ]
  },
  {
   "cell_type": "code",
   "execution_count": 6,
   "metadata": {},
   "outputs": [
    {
     "data": {
      "text/plain": [
       "project id              0\n",
       "name                    0\n",
       "url                     0\n",
       "category                0\n",
       "subcategory             0\n",
       "location             1322\n",
       "status                  0\n",
       "goal                    0\n",
       "pledged                12\n",
       "funded percentage       0\n",
       "backers                 0\n",
       "funded date             0\n",
       "levels                  0\n",
       "reward levels          59\n",
       "updates                 0\n",
       "comments                0\n",
       "duration                0\n",
       "dtype: int64"
      ]
     },
     "execution_count": 6,
     "metadata": {},
     "output_type": "execute_result"
    }
   ],
   "source": [
    "df.isnull().sum()"
   ]
  },
  {
   "cell_type": "code",
   "execution_count": 7,
   "metadata": {},
   "outputs": [
    {
     "data": {
      "text/plain": [
       "count                45957\n",
       "unique                  14\n",
       "top       Film &amp; Video\n",
       "freq                 13053\n",
       "Name: category, dtype: object"
      ]
     },
     "execution_count": 7,
     "metadata": {},
     "output_type": "execute_result"
    }
   ],
   "source": [
    "df.category.describe()"
   ]
  },
  {
   "cell_type": "code",
   "execution_count": 8,
   "metadata": {
    "collapsed": true
   },
   "outputs": [],
   "source": [
    "# Drop status rows labeled as live, canceled, suspended.\n",
    "\n",
    "df = df[~df['status'].isin(['live', 'canceled', 'suspended'])]"
   ]
  },
  {
   "cell_type": "code",
   "execution_count": 9,
   "metadata": {
    "collapsed": true
   },
   "outputs": [],
   "source": [
    "# Replace space in clomun with underscore.\n",
    "df.columns = df.columns.str.replace(' ', '_')"
   ]
  },
  {
   "cell_type": "code",
   "execution_count": 10,
   "metadata": {},
   "outputs": [
    {
     "data": {
      "text/plain": [
       "(41965, 17)"
      ]
     },
     "execution_count": 10,
     "metadata": {},
     "output_type": "execute_result"
    }
   ],
   "source": [
    "df.shape"
   ]
  },
  {
   "cell_type": "code",
   "execution_count": 11,
   "metadata": {},
   "outputs": [
    {
     "data": {
      "text/html": [
       "<div>\n",
       "<style>\n",
       "    .dataframe thead tr:only-child th {\n",
       "        text-align: right;\n",
       "    }\n",
       "\n",
       "    .dataframe thead th {\n",
       "        text-align: left;\n",
       "    }\n",
       "\n",
       "    .dataframe tbody tr th {\n",
       "        vertical-align: top;\n",
       "    }\n",
       "</style>\n",
       "<table border=\"1\" class=\"dataframe\">\n",
       "  <thead>\n",
       "    <tr style=\"text-align: right;\">\n",
       "      <th></th>\n",
       "      <th>project_id</th>\n",
       "      <th>name</th>\n",
       "      <th>url</th>\n",
       "      <th>category</th>\n",
       "      <th>subcategory</th>\n",
       "      <th>location</th>\n",
       "      <th>status</th>\n",
       "      <th>goal</th>\n",
       "      <th>pledged</th>\n",
       "      <th>funded_percentage</th>\n",
       "      <th>backers</th>\n",
       "      <th>funded_date</th>\n",
       "      <th>levels</th>\n",
       "      <th>reward_levels</th>\n",
       "      <th>updates</th>\n",
       "      <th>comments</th>\n",
       "      <th>duration</th>\n",
       "    </tr>\n",
       "  </thead>\n",
       "  <tbody>\n",
       "    <tr>\n",
       "      <th>0</th>\n",
       "      <td>39409</td>\n",
       "      <td>WHILE THE TREES SLEEP</td>\n",
       "      <td>http://www.kickstarter.com/projects/emiliesaba...</td>\n",
       "      <td>Film &amp; Video</td>\n",
       "      <td>Short Film</td>\n",
       "      <td>Columbia, MO</td>\n",
       "      <td>successful</td>\n",
       "      <td>10500.0</td>\n",
       "      <td>11545.0</td>\n",
       "      <td>1.099524</td>\n",
       "      <td>66</td>\n",
       "      <td>Fri, 19 Aug 2011 19:28:17 -0000</td>\n",
       "      <td>7</td>\n",
       "      <td>$25,$50,$100,$250,$500,$1,000,$2,500</td>\n",
       "      <td>10</td>\n",
       "      <td>2</td>\n",
       "      <td>30.0</td>\n",
       "    </tr>\n",
       "  </tbody>\n",
       "</table>\n",
       "</div>"
      ],
      "text/plain": [
       "   project_id                   name  \\\n",
       "0       39409  WHILE THE TREES SLEEP   \n",
       "\n",
       "                                                 url      category  \\\n",
       "0  http://www.kickstarter.com/projects/emiliesaba...  Film & Video   \n",
       "\n",
       "  subcategory      location      status     goal  pledged  funded_percentage  \\\n",
       "0  Short Film  Columbia, MO  successful  10500.0  11545.0           1.099524   \n",
       "\n",
       "   backers                      funded_date  levels  \\\n",
       "0       66  Fri, 19 Aug 2011 19:28:17 -0000       7   \n",
       "\n",
       "                          reward_levels  updates  comments  duration  \n",
       "0  $25,$50,$100,$250,$500,$1,000,$2,500       10         2      30.0  "
      ]
     },
     "execution_count": 11,
     "metadata": {},
     "output_type": "execute_result"
    }
   ],
   "source": [
    "df.head(1)"
   ]
  },
  {
   "cell_type": "code",
   "execution_count": 12,
   "metadata": {
    "collapsed": true
   },
   "outputs": [],
   "source": [
    "# Split up the date to day, time, year, and month.\n",
    "\n",
    "df['funded_day'] = df.funded_date.apply(lambda x: x.split(',')[0])"
   ]
  },
  {
   "cell_type": "code",
   "execution_count": 13,
   "metadata": {
    "collapsed": true
   },
   "outputs": [],
   "source": [
    "df['funded_date'] = pd.to_datetime(df['funded_date'])\n",
    "df['funded_time'] = [d.time() for d in df['funded_date']]\n",
    "df['funded_Newdate'] = [d.date() for d in df['funded_date']]"
   ]
  },
  {
   "cell_type": "code",
   "execution_count": 14,
   "metadata": {
    "collapsed": true
   },
   "outputs": [],
   "source": [
    "# Convert to String and then to int\n",
    "\n",
    "df['funded_year'] = df['funded_Newdate'].apply(lambda date: str(date).split('-')[0]).astype(str).astype(int)\n",
    "df['funded_month'] = df['funded_Newdate'].apply(lambda date: str(date).split('-')[1]).astype(str).astype(int)\n",
    "df['day_of_month'] = df['funded_Newdate'].apply(lambda date: str(date).split('-')[2]).astype(str).astype(int)"
   ]
  },
  {
   "cell_type": "code",
   "execution_count": 15,
   "metadata": {
    "scrolled": true
   },
   "outputs": [
    {
     "data": {
      "text/html": [
       "<div>\n",
       "<style>\n",
       "    .dataframe thead tr:only-child th {\n",
       "        text-align: right;\n",
       "    }\n",
       "\n",
       "    .dataframe thead th {\n",
       "        text-align: left;\n",
       "    }\n",
       "\n",
       "    .dataframe tbody tr th {\n",
       "        vertical-align: top;\n",
       "    }\n",
       "</style>\n",
       "<table border=\"1\" class=\"dataframe\">\n",
       "  <thead>\n",
       "    <tr style=\"text-align: right;\">\n",
       "      <th></th>\n",
       "      <th>project_id</th>\n",
       "      <th>name</th>\n",
       "      <th>url</th>\n",
       "      <th>category</th>\n",
       "      <th>subcategory</th>\n",
       "      <th>location</th>\n",
       "      <th>status</th>\n",
       "      <th>goal</th>\n",
       "      <th>pledged</th>\n",
       "      <th>funded_percentage</th>\n",
       "      <th>...</th>\n",
       "      <th>reward_levels</th>\n",
       "      <th>updates</th>\n",
       "      <th>comments</th>\n",
       "      <th>duration</th>\n",
       "      <th>funded_day</th>\n",
       "      <th>funded_time</th>\n",
       "      <th>funded_Newdate</th>\n",
       "      <th>funded_year</th>\n",
       "      <th>funded_month</th>\n",
       "      <th>day_of_month</th>\n",
       "    </tr>\n",
       "  </thead>\n",
       "  <tbody>\n",
       "    <tr>\n",
       "      <th>0</th>\n",
       "      <td>39409</td>\n",
       "      <td>WHILE THE TREES SLEEP</td>\n",
       "      <td>http://www.kickstarter.com/projects/emiliesaba...</td>\n",
       "      <td>Film &amp; Video</td>\n",
       "      <td>Short Film</td>\n",
       "      <td>Columbia, MO</td>\n",
       "      <td>successful</td>\n",
       "      <td>10500.0</td>\n",
       "      <td>11545.0</td>\n",
       "      <td>1.099524</td>\n",
       "      <td>...</td>\n",
       "      <td>$25,$50,$100,$250,$500,$1,000,$2,500</td>\n",
       "      <td>10</td>\n",
       "      <td>2</td>\n",
       "      <td>30.00</td>\n",
       "      <td>Fri</td>\n",
       "      <td>19:28:17</td>\n",
       "      <td>2011-08-19</td>\n",
       "      <td>2011</td>\n",
       "      <td>8</td>\n",
       "      <td>19</td>\n",
       "    </tr>\n",
       "    <tr>\n",
       "      <th>1</th>\n",
       "      <td>126581</td>\n",
       "      <td>Educational Online Trading Card Game</td>\n",
       "      <td>http://www.kickstarter.com/projects/972789543/...</td>\n",
       "      <td>Games</td>\n",
       "      <td>Board &amp; Card Games</td>\n",
       "      <td>Maplewood, NJ</td>\n",
       "      <td>failed</td>\n",
       "      <td>4000.0</td>\n",
       "      <td>20.0</td>\n",
       "      <td>0.005000</td>\n",
       "      <td>...</td>\n",
       "      <td>$1,$5,$10,$25,$50</td>\n",
       "      <td>6</td>\n",
       "      <td>0</td>\n",
       "      <td>47.18</td>\n",
       "      <td>Mon</td>\n",
       "      <td>03:59:00</td>\n",
       "      <td>2010-08-02</td>\n",
       "      <td>2010</td>\n",
       "      <td>8</td>\n",
       "      <td>2</td>\n",
       "    </tr>\n",
       "  </tbody>\n",
       "</table>\n",
       "<p>2 rows × 23 columns</p>\n",
       "</div>"
      ],
      "text/plain": [
       "   project_id                                  name  \\\n",
       "0       39409                 WHILE THE TREES SLEEP   \n",
       "1      126581  Educational Online Trading Card Game   \n",
       "\n",
       "                                                 url      category  \\\n",
       "0  http://www.kickstarter.com/projects/emiliesaba...  Film & Video   \n",
       "1  http://www.kickstarter.com/projects/972789543/...         Games   \n",
       "\n",
       "          subcategory       location      status     goal  pledged  \\\n",
       "0          Short Film   Columbia, MO  successful  10500.0  11545.0   \n",
       "1  Board & Card Games  Maplewood, NJ      failed   4000.0     20.0   \n",
       "\n",
       "   funded_percentage     ...                              reward_levels  \\\n",
       "0           1.099524     ...       $25,$50,$100,$250,$500,$1,000,$2,500   \n",
       "1           0.005000     ...                          $1,$5,$10,$25,$50   \n",
       "\n",
       "  updates  comments duration  funded_day  funded_time  funded_Newdate  \\\n",
       "0      10         2    30.00         Fri     19:28:17      2011-08-19   \n",
       "1       6         0    47.18         Mon     03:59:00      2010-08-02   \n",
       "\n",
       "  funded_year funded_month day_of_month  \n",
       "0        2011            8           19  \n",
       "1        2010            8            2  \n",
       "\n",
       "[2 rows x 23 columns]"
      ]
     },
     "execution_count": 15,
     "metadata": {},
     "output_type": "execute_result"
    }
   ],
   "source": [
    "df.head(2)"
   ]
  },
  {
   "cell_type": "code",
   "execution_count": 16,
   "metadata": {},
   "outputs": [
    {
     "data": {
      "text/plain": [
       "2011    20182\n",
       "2012    13830\n",
       "2010     7253\n",
       "2009      700\n",
       "Name: funded_year, dtype: int64"
      ]
     },
     "execution_count": 16,
     "metadata": {},
     "output_type": "execute_result"
    }
   ],
   "source": [
    "df.funded_year.value_counts()"
   ]
  },
  {
   "cell_type": "code",
   "execution_count": 17,
   "metadata": {},
   "outputs": [
    {
     "data": {
      "text/plain": [
       "(41965, 23)"
      ]
     },
     "execution_count": 17,
     "metadata": {},
     "output_type": "execute_result"
    }
   ],
   "source": [
    "df.shape"
   ]
  },
  {
   "cell_type": "code",
   "execution_count": 18,
   "metadata": {},
   "outputs": [
    {
     "data": {
      "text/plain": [
       "<matplotlib.axes._subplots.AxesSubplot at 0x1180b3f90>"
      ]
     },
     "execution_count": 18,
     "metadata": {},
     "output_type": "execute_result"
    },
    {
     "data": {
      "image/png": "[encoded data removed]",
      "text/plain": [
       "<matplotlib.figure.Figure at 0x109f08910>"
      ]
     },
     "metadata": {},
     "output_type": "display_data"
    }
   ],
   "source": [
    "# Month(s) with more saturday is better to launch a project?\n",
    "df.funded_day.value_counts().plot(figsize=(20, 6))"
   ]
  },
  {
   "cell_type": "code",
   "execution_count": 19,
   "metadata": {},
   "outputs": [
    {
     "data": {
      "text/html": [
       "<div>\n",
       "<style>\n",
       "    .dataframe thead tr:only-child th {\n",
       "        text-align: right;\n",
       "    }\n",
       "\n",
       "    .dataframe thead th {\n",
       "        text-align: left;\n",
       "    }\n",
       "\n",
       "    .dataframe tbody tr th {\n",
       "        vertical-align: top;\n",
       "    }\n",
       "</style>\n",
       "<table border=\"1\" class=\"dataframe\">\n",
       "  <thead>\n",
       "    <tr style=\"text-align: right;\">\n",
       "      <th></th>\n",
       "      <th>category</th>\n",
       "      <th>subcategory</th>\n",
       "      <th>location</th>\n",
       "      <th>status</th>\n",
       "      <th>goal</th>\n",
       "      <th>pledged</th>\n",
       "      <th>funded_percentage</th>\n",
       "      <th>backers</th>\n",
       "      <th>funded_date</th>\n",
       "      <th>levels</th>\n",
       "      <th>updates</th>\n",
       "      <th>comments</th>\n",
       "      <th>duration</th>\n",
       "      <th>funded_day</th>\n",
       "      <th>funded_time</th>\n",
       "      <th>funded_Newdate</th>\n",
       "      <th>funded_year</th>\n",
       "      <th>funded_month</th>\n",
       "      <th>day_of_month</th>\n",
       "    </tr>\n",
       "  </thead>\n",
       "  <tbody>\n",
       "    <tr>\n",
       "      <th>0</th>\n",
       "      <td>Film &amp; Video</td>\n",
       "      <td>Short Film</td>\n",
       "      <td>Columbia, MO</td>\n",
       "      <td>successful</td>\n",
       "      <td>10500.0</td>\n",
       "      <td>11545.0</td>\n",
       "      <td>1.099524</td>\n",
       "      <td>66</td>\n",
       "      <td>2011-08-19 19:28:17</td>\n",
       "      <td>7</td>\n",
       "      <td>10</td>\n",
       "      <td>2</td>\n",
       "      <td>30.00</td>\n",
       "      <td>Fri</td>\n",
       "      <td>19:28:17</td>\n",
       "      <td>2011-08-19</td>\n",
       "      <td>2011</td>\n",
       "      <td>8</td>\n",
       "      <td>19</td>\n",
       "    </tr>\n",
       "    <tr>\n",
       "      <th>1</th>\n",
       "      <td>Games</td>\n",
       "      <td>Board &amp; Card Games</td>\n",
       "      <td>Maplewood, NJ</td>\n",
       "      <td>failed</td>\n",
       "      <td>4000.0</td>\n",
       "      <td>20.0</td>\n",
       "      <td>0.005000</td>\n",
       "      <td>2</td>\n",
       "      <td>2010-08-02 03:59:00</td>\n",
       "      <td>5</td>\n",
       "      <td>6</td>\n",
       "      <td>0</td>\n",
       "      <td>47.18</td>\n",
       "      <td>Mon</td>\n",
       "      <td>03:59:00</td>\n",
       "      <td>2010-08-02</td>\n",
       "      <td>2010</td>\n",
       "      <td>8</td>\n",
       "      <td>2</td>\n",
       "    </tr>\n",
       "    <tr>\n",
       "      <th>3</th>\n",
       "      <td>Film &amp; Video</td>\n",
       "      <td>Documentary</td>\n",
       "      <td>Los Angeles, CA</td>\n",
       "      <td>successful</td>\n",
       "      <td>6000.0</td>\n",
       "      <td>6535.0</td>\n",
       "      <td>1.089167</td>\n",
       "      <td>100</td>\n",
       "      <td>2012-04-08 02:14:00</td>\n",
       "      <td>13</td>\n",
       "      <td>4</td>\n",
       "      <td>0</td>\n",
       "      <td>32.22</td>\n",
       "      <td>Sun</td>\n",
       "      <td>02:14:00</td>\n",
       "      <td>2012-04-08</td>\n",
       "      <td>2012</td>\n",
       "      <td>4</td>\n",
       "      <td>8</td>\n",
       "    </tr>\n",
       "    <tr>\n",
       "      <th>4</th>\n",
       "      <td>Fashion</td>\n",
       "      <td>Fashion</td>\n",
       "      <td>Novi, MI</td>\n",
       "      <td>failed</td>\n",
       "      <td>3500.0</td>\n",
       "      <td>0.0</td>\n",
       "      <td>0.000000</td>\n",
       "      <td>0</td>\n",
       "      <td>2011-06-01 15:25:39</td>\n",
       "      <td>6</td>\n",
       "      <td>2</td>\n",
       "      <td>0</td>\n",
       "      <td>30.00</td>\n",
       "      <td>Wed</td>\n",
       "      <td>15:25:39</td>\n",
       "      <td>2011-06-01</td>\n",
       "      <td>2011</td>\n",
       "      <td>6</td>\n",
       "      <td>1</td>\n",
       "    </tr>\n",
       "    <tr>\n",
       "      <th>5</th>\n",
       "      <td>Film &amp; Video</td>\n",
       "      <td>Short Film</td>\n",
       "      <td>Portland, OR</td>\n",
       "      <td>successful</td>\n",
       "      <td>3500.0</td>\n",
       "      <td>3582.0</td>\n",
       "      <td>1.023331</td>\n",
       "      <td>39</td>\n",
       "      <td>2011-06-22 13:33:00</td>\n",
       "      <td>7</td>\n",
       "      <td>8</td>\n",
       "      <td>0</td>\n",
       "      <td>21.43</td>\n",
       "      <td>Wed</td>\n",
       "      <td>13:33:00</td>\n",
       "      <td>2011-06-22</td>\n",
       "      <td>2011</td>\n",
       "      <td>6</td>\n",
       "      <td>22</td>\n",
       "    </tr>\n",
       "  </tbody>\n",
       "</table>\n",
       "</div>"
      ],
      "text/plain": [
       "       category         subcategory         location      status     goal  \\\n",
       "0  Film & Video          Short Film     Columbia, MO  successful  10500.0   \n",
       "1         Games  Board & Card Games    Maplewood, NJ      failed   4000.0   \n",
       "3  Film & Video         Documentary  Los Angeles, CA  successful   6000.0   \n",
       "4       Fashion             Fashion         Novi, MI      failed   3500.0   \n",
       "5  Film & Video          Short Film     Portland, OR  successful   3500.0   \n",
       "\n",
       "   pledged  funded_percentage  backers         funded_date  levels  updates  \\\n",
       "0  11545.0           1.099524       66 2011-08-19 19:28:17       7       10   \n",
       "1     20.0           0.005000        2 2010-08-02 03:59:00       5        6   \n",
       "3   6535.0           1.089167      100 2012-04-08 02:14:00      13        4   \n",
       "4      0.0           0.000000        0 2011-06-01 15:25:39       6        2   \n",
       "5   3582.0           1.023331       39 2011-06-22 13:33:00       7        8   \n",
       "\n",
       "   comments  duration funded_day funded_time funded_Newdate  funded_year  \\\n",
       "0         2     30.00        Fri    19:28:17     2011-08-19         2011   \n",
       "1         0     47.18        Mon    03:59:00     2010-08-02         2010   \n",
       "3         0     32.22        Sun    02:14:00     2012-04-08         2012   \n",
       "4         0     30.00        Wed    15:25:39     2011-06-01         2011   \n",
       "5         0     21.43        Wed    13:33:00     2011-06-22         2011   \n",
       "\n",
       "   funded_month  day_of_month  \n",
       "0             8            19  \n",
       "1             8             2  \n",
       "3             4             8  \n",
       "4             6             1  \n",
       "5             6            22  "
      ]
     },
     "execution_count": 19,
     "metadata": {},
     "output_type": "execute_result"
    }
   ],
   "source": [
    "# Drop irrelevant columns.\n",
    "\n",
    "df.drop(['project_id', 'name', 'url', 'reward_levels' ], axis = 1, inplace = True)\n",
    "df.head()"
   ]
  },
  {
   "cell_type": "code",
   "execution_count": 20,
   "metadata": {
    "collapsed": true
   },
   "outputs": [],
   "source": [
    "# Drop NaN values\n",
    "\n",
    "df.dropna(inplace = True)"
   ]
  },
  {
   "cell_type": "code",
   "execution_count": 21,
   "metadata": {
    "collapsed": true
   },
   "outputs": [],
   "source": [
    "# Drop a particular row because it location is unavailable.\n",
    "\n",
    "df.drop([7762], inplace = True)"
   ]
  },
  {
   "cell_type": "code",
   "execution_count": 22,
   "metadata": {},
   "outputs": [
    {
     "data": {
      "text/html": [
       "<div>\n",
       "<style>\n",
       "    .dataframe thead tr:only-child th {\n",
       "        text-align: right;\n",
       "    }\n",
       "\n",
       "    .dataframe thead th {\n",
       "        text-align: left;\n",
       "    }\n",
       "\n",
       "    .dataframe tbody tr th {\n",
       "        vertical-align: top;\n",
       "    }\n",
       "</style>\n",
       "<table border=\"1\" class=\"dataframe\">\n",
       "  <thead>\n",
       "    <tr style=\"text-align: right;\">\n",
       "      <th></th>\n",
       "      <th>category</th>\n",
       "      <th>subcategory</th>\n",
       "      <th>location</th>\n",
       "      <th>status</th>\n",
       "      <th>goal</th>\n",
       "      <th>pledged</th>\n",
       "      <th>funded_percentage</th>\n",
       "      <th>backers</th>\n",
       "      <th>funded_date</th>\n",
       "      <th>levels</th>\n",
       "      <th>updates</th>\n",
       "      <th>comments</th>\n",
       "      <th>duration</th>\n",
       "      <th>funded_day</th>\n",
       "      <th>funded_time</th>\n",
       "      <th>funded_Newdate</th>\n",
       "      <th>funded_year</th>\n",
       "      <th>funded_month</th>\n",
       "      <th>day_of_month</th>\n",
       "    </tr>\n",
       "  </thead>\n",
       "  <tbody>\n",
       "    <tr>\n",
       "      <th>0</th>\n",
       "      <td>Film &amp; Video</td>\n",
       "      <td>Short Film</td>\n",
       "      <td>Columbia, MO</td>\n",
       "      <td>successful</td>\n",
       "      <td>10500.0</td>\n",
       "      <td>11545.0</td>\n",
       "      <td>1.099524</td>\n",
       "      <td>66</td>\n",
       "      <td>2011-08-19 19:28:17</td>\n",
       "      <td>7</td>\n",
       "      <td>10</td>\n",
       "      <td>2</td>\n",
       "      <td>30.00</td>\n",
       "      <td>Fri</td>\n",
       "      <td>19:28:17</td>\n",
       "      <td>2011-08-19</td>\n",
       "      <td>2011</td>\n",
       "      <td>8</td>\n",
       "      <td>19</td>\n",
       "    </tr>\n",
       "    <tr>\n",
       "      <th>1</th>\n",
       "      <td>Games</td>\n",
       "      <td>Board &amp; Card Games</td>\n",
       "      <td>Maplewood, NJ</td>\n",
       "      <td>failed</td>\n",
       "      <td>4000.0</td>\n",
       "      <td>20.0</td>\n",
       "      <td>0.005000</td>\n",
       "      <td>2</td>\n",
       "      <td>2010-08-02 03:59:00</td>\n",
       "      <td>5</td>\n",
       "      <td>6</td>\n",
       "      <td>0</td>\n",
       "      <td>47.18</td>\n",
       "      <td>Mon</td>\n",
       "      <td>03:59:00</td>\n",
       "      <td>2010-08-02</td>\n",
       "      <td>2010</td>\n",
       "      <td>8</td>\n",
       "      <td>2</td>\n",
       "    </tr>\n",
       "    <tr>\n",
       "      <th>3</th>\n",
       "      <td>Film &amp; Video</td>\n",
       "      <td>Documentary</td>\n",
       "      <td>Los Angeles, CA</td>\n",
       "      <td>successful</td>\n",
       "      <td>6000.0</td>\n",
       "      <td>6535.0</td>\n",
       "      <td>1.089167</td>\n",
       "      <td>100</td>\n",
       "      <td>2012-04-08 02:14:00</td>\n",
       "      <td>13</td>\n",
       "      <td>4</td>\n",
       "      <td>0</td>\n",
       "      <td>32.22</td>\n",
       "      <td>Sun</td>\n",
       "      <td>02:14:00</td>\n",
       "      <td>2012-04-08</td>\n",
       "      <td>2012</td>\n",
       "      <td>4</td>\n",
       "      <td>8</td>\n",
       "    </tr>\n",
       "    <tr>\n",
       "      <th>4</th>\n",
       "      <td>Fashion</td>\n",
       "      <td>Fashion</td>\n",
       "      <td>Novi, MI</td>\n",
       "      <td>failed</td>\n",
       "      <td>3500.0</td>\n",
       "      <td>0.0</td>\n",
       "      <td>0.000000</td>\n",
       "      <td>0</td>\n",
       "      <td>2011-06-01 15:25:39</td>\n",
       "      <td>6</td>\n",
       "      <td>2</td>\n",
       "      <td>0</td>\n",
       "      <td>30.00</td>\n",
       "      <td>Wed</td>\n",
       "      <td>15:25:39</td>\n",
       "      <td>2011-06-01</td>\n",
       "      <td>2011</td>\n",
       "      <td>6</td>\n",
       "      <td>1</td>\n",
       "    </tr>\n",
       "    <tr>\n",
       "      <th>5</th>\n",
       "      <td>Film &amp; Video</td>\n",
       "      <td>Short Film</td>\n",
       "      <td>Portland, OR</td>\n",
       "      <td>successful</td>\n",
       "      <td>3500.0</td>\n",
       "      <td>3582.0</td>\n",
       "      <td>1.023331</td>\n",
       "      <td>39</td>\n",
       "      <td>2011-06-22 13:33:00</td>\n",
       "      <td>7</td>\n",
       "      <td>8</td>\n",
       "      <td>0</td>\n",
       "      <td>21.43</td>\n",
       "      <td>Wed</td>\n",
       "      <td>13:33:00</td>\n",
       "      <td>2011-06-22</td>\n",
       "      <td>2011</td>\n",
       "      <td>6</td>\n",
       "      <td>22</td>\n",
       "    </tr>\n",
       "  </tbody>\n",
       "</table>\n",
       "</div>"
      ],
      "text/plain": [
       "       category         subcategory         location      status     goal  \\\n",
       "0  Film & Video          Short Film     Columbia, MO  successful  10500.0   \n",
       "1         Games  Board & Card Games    Maplewood, NJ      failed   4000.0   \n",
       "3  Film & Video         Documentary  Los Angeles, CA  successful   6000.0   \n",
       "4       Fashion             Fashion         Novi, MI      failed   3500.0   \n",
       "5  Film & Video          Short Film     Portland, OR  successful   3500.0   \n",
       "\n",
       "   pledged  funded_percentage  backers         funded_date  levels  updates  \\\n",
       "0  11545.0           1.099524       66 2011-08-19 19:28:17       7       10   \n",
       "1     20.0           0.005000        2 2010-08-02 03:59:00       5        6   \n",
       "3   6535.0           1.089167      100 2012-04-08 02:14:00      13        4   \n",
       "4      0.0           0.000000        0 2011-06-01 15:25:39       6        2   \n",
       "5   3582.0           1.023331       39 2011-06-22 13:33:00       7        8   \n",
       "\n",
       "   comments  duration funded_day funded_time funded_Newdate  funded_year  \\\n",
       "0         2     30.00        Fri    19:28:17     2011-08-19         2011   \n",
       "1         0     47.18        Mon    03:59:00     2010-08-02         2010   \n",
       "3         0     32.22        Sun    02:14:00     2012-04-08         2012   \n",
       "4         0     30.00        Wed    15:25:39     2011-06-01         2011   \n",
       "5         0     21.43        Wed    13:33:00     2011-06-22         2011   \n",
       "\n",
       "   funded_month  day_of_month  \n",
       "0             8            19  \n",
       "1             8             2  \n",
       "3             4             8  \n",
       "4             6             1  \n",
       "5             6            22  "
      ]
     },
     "execution_count": 22,
     "metadata": {},
     "output_type": "execute_result"
    }
   ],
   "source": [
    "df.head()"
   ]
  },
  {
   "cell_type": "code",
   "execution_count": 23,
   "metadata": {
    "collapsed": true
   },
   "outputs": [],
   "source": [
    "# Split up City and States because some of them contain State and Country.\n",
    "\n",
    "df['city'] = df.location.apply(lambda x: x.split(',')[0])\n",
    "df['state'] = df.location.apply(lambda x: x.split(',')[1])"
   ]
  },
  {
   "cell_type": "code",
   "execution_count": 24,
   "metadata": {},
   "outputs": [
    {
     "data": {
      "text/plain": [
       "array([' MO', ' NJ', ' CA', ' MI', ' OR', ' TN', ' IL', ' NY', ' DC',\n",
       "       ' ID', ' FL', ' TX', ' CO', ' ME', ' Taiwan', ' IN', ' Norway',\n",
       "       ' MN', ' NC', ' MA', ' PA', ' CT', ' Chile', ' MD', ' HI', ' VA',\n",
       "       ' WA', ' AZ', ' OH', ' NV', ' Haiti', ' GA', ' AL', ' UT',\n",
       "       ' Canada', ' LA', ' SC', ' Ecuador', ' WI', ' Jamaica',\n",
       "       ' Argentina', ' Hong Kong', ' Germany', ' NM', ' NE', ' Guatemala',\n",
       "       ' IA', ' WY', ' Australia', ' RI', ' Sweden', ' OK', ' DE',\n",
       "       ' South Africa', ' AK', ' WV', ' Nepal', ' MT', ' KY', ' VT',\n",
       "       ' Kenya', ' Bosnia and Herzegovina', ' Iceland', ' Mexico', ' KS',\n",
       "       ' Hungary', ' Indonesia', ' China', ' SD', ' Cuba', ' Peru',\n",
       "       ' Italy', ' Netherlands', ' Singapore', ' Ethiopia', ' NH',\n",
       "       ' New Zealand', ' France', ' United Kingdom', ' Austria', ' Turkey',\n",
       "       ' AR', ' Mt', ' Congo', ' Colombia', ' India', ' Mongolia', ' MS',\n",
       "       ' Israel', ' Dominica', ' Finland', ' Czech Republic', ' Japan',\n",
       "       ' Virgin Islands', ' Lebanon', ' Armenia', ' Portugal', ' Qatar',\n",
       "       ' Morocco', ' Martinique', ' Puerto Rico', ' Afghanistan',\n",
       "       ' Denmark', ' Tanzania', ' Kazakhstan', ' Zambia', ' Switzerland',\n",
       "       ' Egypt', ' Svalbard and Jan Mayen', ' ND', ' Liberia', ' Ghana',\n",
       "       ' Nicaragua', ' Russia', ' Ukraine', ' Bulgaria', ' South Korea',\n",
       "       ' Brazil', ' Rwanda', ' Spain', ' Costa Rica', ' Philippines',\n",
       "       ' Pakistan', ' El Salvador', ' Panama', ' United Arab Emirates',\n",
       "       ' Honduras', ' Palestinian Territories', ' Poland', ' Georgia',\n",
       "       ' Syrian Arab Republic', ' Cambodia', ' Nigeria', ' Mali',\n",
       "       ' Saudi Arabia', ' Argent', ' Iraq', ' Cameroon', ' Namibia',\n",
       "       ' Ireland', ' Bolivia', ' Venezuela', ' Thailand', ' Jordan',\n",
       "       ' Zimbabwe', ' Iran', ' Tunisia', ' Greece', ' Sierra Leone',\n",
       "       ' Isle of Man', ' Central African Republic', ' Serbia', ' Belize',\n",
       "       ' Uganda', ' Malta', ' Slovenia', ' Sudan', ' Belgium', ' Myanmar',\n",
       "       ' Malaysia', ' Greenland', ' Senegal', ' Bahamas', ' Malawi',\n",
       "       ' Romania', ' Mozambique', ' Bhutan', ' Lithuania', ' Micronesia',\n",
       "       ' Tajikistan', ' Sri Lanka', ' Libyan Arab Jamahiriya', ' Guinea',\n",
       "       ' Kyoto', ' Bermuda', ' Belarus', ' Estonia', ' Suriname',\n",
       "       ' Dominican Republic', ' Vanuatu', ' Trinidad and Tobago',\n",
       "       ' Cyprus', ' Macedonia', ' Viet Nam', ' Swaziland',\n",
       "       ' Falkland Islands', ' Kyrgyzstan', ' Bangladesh', ' Laos',\n",
       "       ' Middleburg', ' Papua New Guinea', ' Uruguay', ' Guam',\n",
       "       ' Dominican Re', ' Saint Lucia'], dtype=object)"
      ]
     },
     "execution_count": 24,
     "metadata": {},
     "output_type": "execute_result"
    }
   ],
   "source": [
    "df.state.unique()"
   ]
  },
  {
   "cell_type": "code",
   "execution_count": 25,
   "metadata": {},
   "outputs": [
    {
     "data": {
      "text/html": [
       "<div>\n",
       "<style>\n",
       "    .dataframe thead tr:only-child th {\n",
       "        text-align: right;\n",
       "    }\n",
       "\n",
       "    .dataframe thead th {\n",
       "        text-align: left;\n",
       "    }\n",
       "\n",
       "    .dataframe tbody tr th {\n",
       "        vertical-align: top;\n",
       "    }\n",
       "</style>\n",
       "<table border=\"1\" class=\"dataframe\">\n",
       "  <thead>\n",
       "    <tr style=\"text-align: right;\">\n",
       "      <th></th>\n",
       "      <th>category</th>\n",
       "      <th>subcategory</th>\n",
       "      <th>location</th>\n",
       "      <th>status</th>\n",
       "      <th>goal</th>\n",
       "      <th>pledged</th>\n",
       "      <th>funded_percentage</th>\n",
       "      <th>backers</th>\n",
       "      <th>funded_date</th>\n",
       "      <th>levels</th>\n",
       "      <th>...</th>\n",
       "      <th>comments</th>\n",
       "      <th>duration</th>\n",
       "      <th>funded_day</th>\n",
       "      <th>funded_time</th>\n",
       "      <th>funded_Newdate</th>\n",
       "      <th>funded_year</th>\n",
       "      <th>funded_month</th>\n",
       "      <th>day_of_month</th>\n",
       "      <th>city</th>\n",
       "      <th>state</th>\n",
       "    </tr>\n",
       "  </thead>\n",
       "  <tbody>\n",
       "    <tr>\n",
       "      <th>0</th>\n",
       "      <td>Film &amp; Video</td>\n",
       "      <td>Short Film</td>\n",
       "      <td>Columbia, MO</td>\n",
       "      <td>successful</td>\n",
       "      <td>10500.0</td>\n",
       "      <td>11545.0</td>\n",
       "      <td>1.099524</td>\n",
       "      <td>66</td>\n",
       "      <td>2011-08-19 19:28:17</td>\n",
       "      <td>7</td>\n",
       "      <td>...</td>\n",
       "      <td>2</td>\n",
       "      <td>30.00</td>\n",
       "      <td>Fri</td>\n",
       "      <td>19:28:17</td>\n",
       "      <td>2011-08-19</td>\n",
       "      <td>2011</td>\n",
       "      <td>8</td>\n",
       "      <td>19</td>\n",
       "      <td>Columbia</td>\n",
       "      <td>MO</td>\n",
       "    </tr>\n",
       "    <tr>\n",
       "      <th>1</th>\n",
       "      <td>Games</td>\n",
       "      <td>Board &amp; Card Games</td>\n",
       "      <td>Maplewood, NJ</td>\n",
       "      <td>failed</td>\n",
       "      <td>4000.0</td>\n",
       "      <td>20.0</td>\n",
       "      <td>0.005000</td>\n",
       "      <td>2</td>\n",
       "      <td>2010-08-02 03:59:00</td>\n",
       "      <td>5</td>\n",
       "      <td>...</td>\n",
       "      <td>0</td>\n",
       "      <td>47.18</td>\n",
       "      <td>Mon</td>\n",
       "      <td>03:59:00</td>\n",
       "      <td>2010-08-02</td>\n",
       "      <td>2010</td>\n",
       "      <td>8</td>\n",
       "      <td>2</td>\n",
       "      <td>Maplewood</td>\n",
       "      <td>NJ</td>\n",
       "    </tr>\n",
       "    <tr>\n",
       "      <th>3</th>\n",
       "      <td>Film &amp; Video</td>\n",
       "      <td>Documentary</td>\n",
       "      <td>Los Angeles, CA</td>\n",
       "      <td>successful</td>\n",
       "      <td>6000.0</td>\n",
       "      <td>6535.0</td>\n",
       "      <td>1.089167</td>\n",
       "      <td>100</td>\n",
       "      <td>2012-04-08 02:14:00</td>\n",
       "      <td>13</td>\n",
       "      <td>...</td>\n",
       "      <td>0</td>\n",
       "      <td>32.22</td>\n",
       "      <td>Sun</td>\n",
       "      <td>02:14:00</td>\n",
       "      <td>2012-04-08</td>\n",
       "      <td>2012</td>\n",
       "      <td>4</td>\n",
       "      <td>8</td>\n",
       "      <td>Los Angeles</td>\n",
       "      <td>CA</td>\n",
       "    </tr>\n",
       "    <tr>\n",
       "      <th>4</th>\n",
       "      <td>Fashion</td>\n",
       "      <td>Fashion</td>\n",
       "      <td>Novi, MI</td>\n",
       "      <td>failed</td>\n",
       "      <td>3500.0</td>\n",
       "      <td>0.0</td>\n",
       "      <td>0.000000</td>\n",
       "      <td>0</td>\n",
       "      <td>2011-06-01 15:25:39</td>\n",
       "      <td>6</td>\n",
       "      <td>...</td>\n",
       "      <td>0</td>\n",
       "      <td>30.00</td>\n",
       "      <td>Wed</td>\n",
       "      <td>15:25:39</td>\n",
       "      <td>2011-06-01</td>\n",
       "      <td>2011</td>\n",
       "      <td>6</td>\n",
       "      <td>1</td>\n",
       "      <td>Novi</td>\n",
       "      <td>MI</td>\n",
       "    </tr>\n",
       "    <tr>\n",
       "      <th>5</th>\n",
       "      <td>Film &amp; Video</td>\n",
       "      <td>Short Film</td>\n",
       "      <td>Portland, OR</td>\n",
       "      <td>successful</td>\n",
       "      <td>3500.0</td>\n",
       "      <td>3582.0</td>\n",
       "      <td>1.023331</td>\n",
       "      <td>39</td>\n",
       "      <td>2011-06-22 13:33:00</td>\n",
       "      <td>7</td>\n",
       "      <td>...</td>\n",
       "      <td>0</td>\n",
       "      <td>21.43</td>\n",
       "      <td>Wed</td>\n",
       "      <td>13:33:00</td>\n",
       "      <td>2011-06-22</td>\n",
       "      <td>2011</td>\n",
       "      <td>6</td>\n",
       "      <td>22</td>\n",
       "      <td>Portland</td>\n",
       "      <td>OR</td>\n",
       "    </tr>\n",
       "  </tbody>\n",
       "</table>\n",
       "<p>5 rows × 21 columns</p>\n",
       "</div>"
      ],
      "text/plain": [
       "       category         subcategory         location      status     goal  \\\n",
       "0  Film & Video          Short Film     Columbia, MO  successful  10500.0   \n",
       "1         Games  Board & Card Games    Maplewood, NJ      failed   4000.0   \n",
       "3  Film & Video         Documentary  Los Angeles, CA  successful   6000.0   \n",
       "4       Fashion             Fashion         Novi, MI      failed   3500.0   \n",
       "5  Film & Video          Short Film     Portland, OR  successful   3500.0   \n",
       "\n",
       "   pledged  funded_percentage  backers         funded_date  levels  ...   \\\n",
       "0  11545.0           1.099524       66 2011-08-19 19:28:17       7  ...    \n",
       "1     20.0           0.005000        2 2010-08-02 03:59:00       5  ...    \n",
       "3   6535.0           1.089167      100 2012-04-08 02:14:00      13  ...    \n",
       "4      0.0           0.000000        0 2011-06-01 15:25:39       6  ...    \n",
       "5   3582.0           1.023331       39 2011-06-22 13:33:00       7  ...    \n",
       "\n",
       "   comments  duration  funded_day funded_time funded_Newdate funded_year  \\\n",
       "0         2     30.00         Fri    19:28:17     2011-08-19        2011   \n",
       "1         0     47.18         Mon    03:59:00     2010-08-02        2010   \n",
       "3         0     32.22         Sun    02:14:00     2012-04-08        2012   \n",
       "4         0     30.00         Wed    15:25:39     2011-06-01        2011   \n",
       "5         0     21.43         Wed    13:33:00     2011-06-22        2011   \n",
       "\n",
       "   funded_month  day_of_month         city state  \n",
       "0             8            19     Columbia    MO  \n",
       "1             8             2    Maplewood    NJ  \n",
       "3             4             8  Los Angeles    CA  \n",
       "4             6             1         Novi    MI  \n",
       "5             6            22     Portland    OR  \n",
       "\n",
       "[5 rows x 21 columns]"
      ]
     },
     "execution_count": 25,
     "metadata": {},
     "output_type": "execute_result"
    }
   ],
   "source": [
    "df.head()"
   ]
  },
  {
   "cell_type": "code",
   "execution_count": 26,
   "metadata": {},
   "outputs": [
    {
     "data": {
      "text/plain": [
       "(40642, 21)"
      ]
     },
     "execution_count": 26,
     "metadata": {},
     "output_type": "execute_result"
    }
   ],
   "source": [
    "df.shape"
   ]
  },
  {
   "cell_type": "code",
   "execution_count": 27,
   "metadata": {},
   "outputs": [
    {
     "data": {
      "text/plain": [
       "successful    0.549628\n",
       "failed        0.450372\n",
       "Name: status, dtype: float64"
      ]
     },
     "execution_count": 27,
     "metadata": {},
     "output_type": "execute_result"
    }
   ],
   "source": [
    "df.status.value_counts(normalize = True)"
   ]
  },
  {
   "cell_type": "code",
   "execution_count": 28,
   "metadata": {
    "scrolled": true
   },
   "outputs": [
    {
     "data": {
      "text/html": [
       "<div>\n",
       "<style>\n",
       "    .dataframe thead tr:only-child th {\n",
       "        text-align: right;\n",
       "    }\n",
       "\n",
       "    .dataframe thead th {\n",
       "        text-align: left;\n",
       "    }\n",
       "\n",
       "    .dataframe tbody tr th {\n",
       "        vertical-align: top;\n",
       "    }\n",
       "</style>\n",
       "<table border=\"1\" class=\"dataframe\">\n",
       "  <thead>\n",
       "    <tr style=\"text-align: right;\">\n",
       "      <th></th>\n",
       "      <th>category</th>\n",
       "      <th>subcategory</th>\n",
       "      <th>location</th>\n",
       "      <th>status</th>\n",
       "      <th>goal</th>\n",
       "      <th>pledged</th>\n",
       "      <th>funded_percentage</th>\n",
       "      <th>backers</th>\n",
       "      <th>funded_date</th>\n",
       "      <th>levels</th>\n",
       "      <th>...</th>\n",
       "      <th>comments</th>\n",
       "      <th>duration</th>\n",
       "      <th>funded_day</th>\n",
       "      <th>funded_time</th>\n",
       "      <th>funded_Newdate</th>\n",
       "      <th>funded_year</th>\n",
       "      <th>funded_month</th>\n",
       "      <th>day_of_month</th>\n",
       "      <th>city</th>\n",
       "      <th>state</th>\n",
       "    </tr>\n",
       "  </thead>\n",
       "  <tbody>\n",
       "    <tr>\n",
       "      <th>0</th>\n",
       "      <td>Film &amp; Video</td>\n",
       "      <td>Short Film</td>\n",
       "      <td>Columbia, MO</td>\n",
       "      <td>successful</td>\n",
       "      <td>10500.0</td>\n",
       "      <td>11545.0</td>\n",
       "      <td>1.099524</td>\n",
       "      <td>66</td>\n",
       "      <td>2011-08-19 19:28:17</td>\n",
       "      <td>7</td>\n",
       "      <td>...</td>\n",
       "      <td>2</td>\n",
       "      <td>30.00</td>\n",
       "      <td>Fri</td>\n",
       "      <td>19:28:17</td>\n",
       "      <td>2011-08-19</td>\n",
       "      <td>2011</td>\n",
       "      <td>8</td>\n",
       "      <td>19</td>\n",
       "      <td>Columbia</td>\n",
       "      <td>MO</td>\n",
       "    </tr>\n",
       "    <tr>\n",
       "      <th>1</th>\n",
       "      <td>Games</td>\n",
       "      <td>Board &amp; Card Games</td>\n",
       "      <td>Maplewood, NJ</td>\n",
       "      <td>failed</td>\n",
       "      <td>4000.0</td>\n",
       "      <td>20.0</td>\n",
       "      <td>0.005000</td>\n",
       "      <td>2</td>\n",
       "      <td>2010-08-02 03:59:00</td>\n",
       "      <td>5</td>\n",
       "      <td>...</td>\n",
       "      <td>0</td>\n",
       "      <td>47.18</td>\n",
       "      <td>Mon</td>\n",
       "      <td>03:59:00</td>\n",
       "      <td>2010-08-02</td>\n",
       "      <td>2010</td>\n",
       "      <td>8</td>\n",
       "      <td>2</td>\n",
       "      <td>Maplewood</td>\n",
       "      <td>NJ</td>\n",
       "    </tr>\n",
       "  </tbody>\n",
       "</table>\n",
       "<p>2 rows × 21 columns</p>\n",
       "</div>"
      ],
      "text/plain": [
       "       category         subcategory       location      status     goal  \\\n",
       "0  Film & Video          Short Film   Columbia, MO  successful  10500.0   \n",
       "1         Games  Board & Card Games  Maplewood, NJ      failed   4000.0   \n",
       "\n",
       "   pledged  funded_percentage  backers         funded_date  levels  ...   \\\n",
       "0  11545.0           1.099524       66 2011-08-19 19:28:17       7  ...    \n",
       "1     20.0           0.005000        2 2010-08-02 03:59:00       5  ...    \n",
       "\n",
       "   comments  duration  funded_day funded_time funded_Newdate funded_year  \\\n",
       "0         2     30.00         Fri    19:28:17     2011-08-19        2011   \n",
       "1         0     47.18         Mon    03:59:00     2010-08-02        2010   \n",
       "\n",
       "   funded_month  day_of_month       city state  \n",
       "0             8            19   Columbia    MO  \n",
       "1             8             2  Maplewood    NJ  \n",
       "\n",
       "[2 rows x 21 columns]"
      ]
     },
     "execution_count": 28,
     "metadata": {},
     "output_type": "execute_result"
    }
   ],
   "source": [
    "df.head(2)"
   ]
  },
  {
   "cell_type": "code",
   "execution_count": 29,
   "metadata": {
    "collapsed": true
   },
   "outputs": [],
   "source": [
    "# Split up States and create a new column for that.\n",
    "\n",
    "def split_it(state):\n",
    "     return re.findall('([A-Z]{2,})', state)\n",
    "\n",
    "df['STATE'] = df['state'].apply(split_it)"
   ]
  },
  {
   "cell_type": "code",
   "execution_count": 30,
   "metadata": {
    "collapsed": true
   },
   "outputs": [],
   "source": [
    "def split_it(state):\n",
    "     return re.findall('[A-Z][a-z]+', state)\n",
    "\n",
    "df['Country'] = df['state'].apply(split_it)"
   ]
  },
  {
   "cell_type": "code",
   "execution_count": 31,
   "metadata": {},
   "outputs": [
    {
     "data": {
      "text/html": [
       "<div>\n",
       "<style>\n",
       "    .dataframe thead tr:only-child th {\n",
       "        text-align: right;\n",
       "    }\n",
       "\n",
       "    .dataframe thead th {\n",
       "        text-align: left;\n",
       "    }\n",
       "\n",
       "    .dataframe tbody tr th {\n",
       "        vertical-align: top;\n",
       "    }\n",
       "</style>\n",
       "<table border=\"1\" class=\"dataframe\">\n",
       "  <thead>\n",
       "    <tr style=\"text-align: right;\">\n",
       "      <th></th>\n",
       "      <th>category</th>\n",
       "      <th>subcategory</th>\n",
       "      <th>location</th>\n",
       "      <th>status</th>\n",
       "      <th>goal</th>\n",
       "      <th>pledged</th>\n",
       "      <th>funded_percentage</th>\n",
       "      <th>backers</th>\n",
       "      <th>funded_date</th>\n",
       "      <th>levels</th>\n",
       "      <th>...</th>\n",
       "      <th>funded_day</th>\n",
       "      <th>funded_time</th>\n",
       "      <th>funded_Newdate</th>\n",
       "      <th>funded_year</th>\n",
       "      <th>funded_month</th>\n",
       "      <th>day_of_month</th>\n",
       "      <th>city</th>\n",
       "      <th>state</th>\n",
       "      <th>STATE</th>\n",
       "      <th>Country</th>\n",
       "    </tr>\n",
       "  </thead>\n",
       "  <tbody>\n",
       "    <tr>\n",
       "      <th>0</th>\n",
       "      <td>Film &amp; Video</td>\n",
       "      <td>Short Film</td>\n",
       "      <td>Columbia, MO</td>\n",
       "      <td>successful</td>\n",
       "      <td>10500.0</td>\n",
       "      <td>11545.0</td>\n",
       "      <td>1.099524</td>\n",
       "      <td>66</td>\n",
       "      <td>2011-08-19 19:28:17</td>\n",
       "      <td>7</td>\n",
       "      <td>...</td>\n",
       "      <td>Fri</td>\n",
       "      <td>19:28:17</td>\n",
       "      <td>2011-08-19</td>\n",
       "      <td>2011</td>\n",
       "      <td>8</td>\n",
       "      <td>19</td>\n",
       "      <td>Columbia</td>\n",
       "      <td>MO</td>\n",
       "      <td>[MO]</td>\n",
       "      <td>[]</td>\n",
       "    </tr>\n",
       "    <tr>\n",
       "      <th>1</th>\n",
       "      <td>Games</td>\n",
       "      <td>Board &amp; Card Games</td>\n",
       "      <td>Maplewood, NJ</td>\n",
       "      <td>failed</td>\n",
       "      <td>4000.0</td>\n",
       "      <td>20.0</td>\n",
       "      <td>0.005000</td>\n",
       "      <td>2</td>\n",
       "      <td>2010-08-02 03:59:00</td>\n",
       "      <td>5</td>\n",
       "      <td>...</td>\n",
       "      <td>Mon</td>\n",
       "      <td>03:59:00</td>\n",
       "      <td>2010-08-02</td>\n",
       "      <td>2010</td>\n",
       "      <td>8</td>\n",
       "      <td>2</td>\n",
       "      <td>Maplewood</td>\n",
       "      <td>NJ</td>\n",
       "      <td>[NJ]</td>\n",
       "      <td>[]</td>\n",
       "    </tr>\n",
       "  </tbody>\n",
       "</table>\n",
       "<p>2 rows × 23 columns</p>\n",
       "</div>"
      ],
      "text/plain": [
       "       category         subcategory       location      status     goal  \\\n",
       "0  Film & Video          Short Film   Columbia, MO  successful  10500.0   \n",
       "1         Games  Board & Card Games  Maplewood, NJ      failed   4000.0   \n",
       "\n",
       "   pledged  funded_percentage  backers         funded_date  levels   ...    \\\n",
       "0  11545.0           1.099524       66 2011-08-19 19:28:17       7   ...     \n",
       "1     20.0           0.005000        2 2010-08-02 03:59:00       5   ...     \n",
       "\n",
       "   funded_day  funded_time  funded_Newdate funded_year funded_month  \\\n",
       "0         Fri     19:28:17      2011-08-19        2011            8   \n",
       "1         Mon     03:59:00      2010-08-02        2010            8   \n",
       "\n",
       "  day_of_month       city  state  STATE Country  \n",
       "0           19   Columbia     MO   [MO]      []  \n",
       "1            2  Maplewood     NJ   [NJ]      []  \n",
       "\n",
       "[2 rows x 23 columns]"
      ]
     },
     "execution_count": 31,
     "metadata": {},
     "output_type": "execute_result"
    }
   ],
   "source": [
    "df.head(2)"
   ]
  },
  {
   "cell_type": "code",
   "execution_count": 32,
   "metadata": {
    "collapsed": true
   },
   "outputs": [],
   "source": [
    "# Remove [] in STATE Column and Country\n",
    "\n",
    "df['STATE'] = df['STATE'].str[0]\n",
    "df['Country'] = df['Country'].str[0]"
   ]
  },
  {
   "cell_type": "code",
   "execution_count": 33,
   "metadata": {},
   "outputs": [
    {
     "data": {
      "text/html": [
       "<div>\n",
       "<style>\n",
       "    .dataframe thead tr:only-child th {\n",
       "        text-align: right;\n",
       "    }\n",
       "\n",
       "    .dataframe thead th {\n",
       "        text-align: left;\n",
       "    }\n",
       "\n",
       "    .dataframe tbody tr th {\n",
       "        vertical-align: top;\n",
       "    }\n",
       "</style>\n",
       "<table border=\"1\" class=\"dataframe\">\n",
       "  <thead>\n",
       "    <tr style=\"text-align: right;\">\n",
       "      <th></th>\n",
       "      <th>category</th>\n",
       "      <th>subcategory</th>\n",
       "      <th>location</th>\n",
       "      <th>status</th>\n",
       "      <th>goal</th>\n",
       "      <th>pledged</th>\n",
       "      <th>funded_percentage</th>\n",
       "      <th>backers</th>\n",
       "      <th>funded_date</th>\n",
       "      <th>levels</th>\n",
       "      <th>...</th>\n",
       "      <th>funded_day</th>\n",
       "      <th>funded_time</th>\n",
       "      <th>funded_Newdate</th>\n",
       "      <th>funded_year</th>\n",
       "      <th>funded_month</th>\n",
       "      <th>day_of_month</th>\n",
       "      <th>city</th>\n",
       "      <th>state</th>\n",
       "      <th>STATE</th>\n",
       "      <th>Country</th>\n",
       "    </tr>\n",
       "  </thead>\n",
       "  <tbody>\n",
       "    <tr>\n",
       "      <th>0</th>\n",
       "      <td>Film &amp; Video</td>\n",
       "      <td>Short Film</td>\n",
       "      <td>Columbia, MO</td>\n",
       "      <td>successful</td>\n",
       "      <td>10500.0</td>\n",
       "      <td>11545.0</td>\n",
       "      <td>1.099524</td>\n",
       "      <td>66</td>\n",
       "      <td>2011-08-19 19:28:17</td>\n",
       "      <td>7</td>\n",
       "      <td>...</td>\n",
       "      <td>Fri</td>\n",
       "      <td>19:28:17</td>\n",
       "      <td>2011-08-19</td>\n",
       "      <td>2011</td>\n",
       "      <td>8</td>\n",
       "      <td>19</td>\n",
       "      <td>Columbia</td>\n",
       "      <td>MO</td>\n",
       "      <td>MO</td>\n",
       "      <td>NaN</td>\n",
       "    </tr>\n",
       "    <tr>\n",
       "      <th>1</th>\n",
       "      <td>Games</td>\n",
       "      <td>Board &amp; Card Games</td>\n",
       "      <td>Maplewood, NJ</td>\n",
       "      <td>failed</td>\n",
       "      <td>4000.0</td>\n",
       "      <td>20.0</td>\n",
       "      <td>0.005000</td>\n",
       "      <td>2</td>\n",
       "      <td>2010-08-02 03:59:00</td>\n",
       "      <td>5</td>\n",
       "      <td>...</td>\n",
       "      <td>Mon</td>\n",
       "      <td>03:59:00</td>\n",
       "      <td>2010-08-02</td>\n",
       "      <td>2010</td>\n",
       "      <td>8</td>\n",
       "      <td>2</td>\n",
       "      <td>Maplewood</td>\n",
       "      <td>NJ</td>\n",
       "      <td>NJ</td>\n",
       "      <td>NaN</td>\n",
       "    </tr>\n",
       "    <tr>\n",
       "      <th>3</th>\n",
       "      <td>Film &amp; Video</td>\n",
       "      <td>Documentary</td>\n",
       "      <td>Los Angeles, CA</td>\n",
       "      <td>successful</td>\n",
       "      <td>6000.0</td>\n",
       "      <td>6535.0</td>\n",
       "      <td>1.089167</td>\n",
       "      <td>100</td>\n",
       "      <td>2012-04-08 02:14:00</td>\n",
       "      <td>13</td>\n",
       "      <td>...</td>\n",
       "      <td>Sun</td>\n",
       "      <td>02:14:00</td>\n",
       "      <td>2012-04-08</td>\n",
       "      <td>2012</td>\n",
       "      <td>4</td>\n",
       "      <td>8</td>\n",
       "      <td>Los Angeles</td>\n",
       "      <td>CA</td>\n",
       "      <td>CA</td>\n",
       "      <td>NaN</td>\n",
       "    </tr>\n",
       "    <tr>\n",
       "      <th>4</th>\n",
       "      <td>Fashion</td>\n",
       "      <td>Fashion</td>\n",
       "      <td>Novi, MI</td>\n",
       "      <td>failed</td>\n",
       "      <td>3500.0</td>\n",
       "      <td>0.0</td>\n",
       "      <td>0.000000</td>\n",
       "      <td>0</td>\n",
       "      <td>2011-06-01 15:25:39</td>\n",
       "      <td>6</td>\n",
       "      <td>...</td>\n",
       "      <td>Wed</td>\n",
       "      <td>15:25:39</td>\n",
       "      <td>2011-06-01</td>\n",
       "      <td>2011</td>\n",
       "      <td>6</td>\n",
       "      <td>1</td>\n",
       "      <td>Novi</td>\n",
       "      <td>MI</td>\n",
       "      <td>MI</td>\n",
       "      <td>NaN</td>\n",
       "    </tr>\n",
       "    <tr>\n",
       "      <th>5</th>\n",
       "      <td>Film &amp; Video</td>\n",
       "      <td>Short Film</td>\n",
       "      <td>Portland, OR</td>\n",
       "      <td>successful</td>\n",
       "      <td>3500.0</td>\n",
       "      <td>3582.0</td>\n",
       "      <td>1.023331</td>\n",
       "      <td>39</td>\n",
       "      <td>2011-06-22 13:33:00</td>\n",
       "      <td>7</td>\n",
       "      <td>...</td>\n",
       "      <td>Wed</td>\n",
       "      <td>13:33:00</td>\n",
       "      <td>2011-06-22</td>\n",
       "      <td>2011</td>\n",
       "      <td>6</td>\n",
       "      <td>22</td>\n",
       "      <td>Portland</td>\n",
       "      <td>OR</td>\n",
       "      <td>OR</td>\n",
       "      <td>NaN</td>\n",
       "    </tr>\n",
       "  </tbody>\n",
       "</table>\n",
       "<p>5 rows × 23 columns</p>\n",
       "</div>"
      ],
      "text/plain": [
       "       category         subcategory         location      status     goal  \\\n",
       "0  Film & Video          Short Film     Columbia, MO  successful  10500.0   \n",
       "1         Games  Board & Card Games    Maplewood, NJ      failed   4000.0   \n",
       "3  Film & Video         Documentary  Los Angeles, CA  successful   6000.0   \n",
       "4       Fashion             Fashion         Novi, MI      failed   3500.0   \n",
       "5  Film & Video          Short Film     Portland, OR  successful   3500.0   \n",
       "\n",
       "   pledged  funded_percentage  backers         funded_date  levels   ...    \\\n",
       "0  11545.0           1.099524       66 2011-08-19 19:28:17       7   ...     \n",
       "1     20.0           0.005000        2 2010-08-02 03:59:00       5   ...     \n",
       "3   6535.0           1.089167      100 2012-04-08 02:14:00      13   ...     \n",
       "4      0.0           0.000000        0 2011-06-01 15:25:39       6   ...     \n",
       "5   3582.0           1.023331       39 2011-06-22 13:33:00       7   ...     \n",
       "\n",
       "   funded_day  funded_time  funded_Newdate funded_year funded_month  \\\n",
       "0         Fri     19:28:17      2011-08-19        2011            8   \n",
       "1         Mon     03:59:00      2010-08-02        2010            8   \n",
       "3         Sun     02:14:00      2012-04-08        2012            4   \n",
       "4         Wed     15:25:39      2011-06-01        2011            6   \n",
       "5         Wed     13:33:00      2011-06-22        2011            6   \n",
       "\n",
       "  day_of_month         city  state  STATE Country  \n",
       "0           19     Columbia     MO     MO     NaN  \n",
       "1            2    Maplewood     NJ     NJ     NaN  \n",
       "3            8  Los Angeles     CA     CA     NaN  \n",
       "4            1         Novi     MI     MI     NaN  \n",
       "5           22     Portland     OR     OR     NaN  \n",
       "\n",
       "[5 rows x 23 columns]"
      ]
     },
     "execution_count": 33,
     "metadata": {},
     "output_type": "execute_result"
    }
   ],
   "source": [
    "df.head()"
   ]
  },
  {
   "cell_type": "code",
   "execution_count": 34,
   "metadata": {
    "collapsed": true
   },
   "outputs": [],
   "source": [
    "# Fill in NaN values for Country (United State)\n",
    "df.Country.fillna(value = 'United States', inplace = True)"
   ]
  },
  {
   "cell_type": "code",
   "execution_count": 35,
   "metadata": {},
   "outputs": [
    {
     "data": {
      "text/html": [
       "<div>\n",
       "<style>\n",
       "    .dataframe thead tr:only-child th {\n",
       "        text-align: right;\n",
       "    }\n",
       "\n",
       "    .dataframe thead th {\n",
       "        text-align: left;\n",
       "    }\n",
       "\n",
       "    .dataframe tbody tr th {\n",
       "        vertical-align: top;\n",
       "    }\n",
       "</style>\n",
       "<table border=\"1\" class=\"dataframe\">\n",
       "  <thead>\n",
       "    <tr style=\"text-align: right;\">\n",
       "      <th></th>\n",
       "      <th>category</th>\n",
       "      <th>subcategory</th>\n",
       "      <th>location</th>\n",
       "      <th>status</th>\n",
       "      <th>goal</th>\n",
       "      <th>pledged</th>\n",
       "      <th>funded_percentage</th>\n",
       "      <th>backers</th>\n",
       "      <th>funded_date</th>\n",
       "      <th>levels</th>\n",
       "      <th>...</th>\n",
       "      <th>funded_day</th>\n",
       "      <th>funded_time</th>\n",
       "      <th>funded_Newdate</th>\n",
       "      <th>funded_year</th>\n",
       "      <th>funded_month</th>\n",
       "      <th>day_of_month</th>\n",
       "      <th>city</th>\n",
       "      <th>state</th>\n",
       "      <th>STATE</th>\n",
       "      <th>Country</th>\n",
       "    </tr>\n",
       "  </thead>\n",
       "  <tbody>\n",
       "    <tr>\n",
       "      <th>0</th>\n",
       "      <td>Film &amp; Video</td>\n",
       "      <td>Short Film</td>\n",
       "      <td>Columbia, MO</td>\n",
       "      <td>successful</td>\n",
       "      <td>10500.0</td>\n",
       "      <td>11545.0</td>\n",
       "      <td>1.099524</td>\n",
       "      <td>66</td>\n",
       "      <td>2011-08-19 19:28:17</td>\n",
       "      <td>7</td>\n",
       "      <td>...</td>\n",
       "      <td>Fri</td>\n",
       "      <td>19:28:17</td>\n",
       "      <td>2011-08-19</td>\n",
       "      <td>2011</td>\n",
       "      <td>8</td>\n",
       "      <td>19</td>\n",
       "      <td>Columbia</td>\n",
       "      <td>MO</td>\n",
       "      <td>MO</td>\n",
       "      <td>United States</td>\n",
       "    </tr>\n",
       "    <tr>\n",
       "      <th>1</th>\n",
       "      <td>Games</td>\n",
       "      <td>Board &amp; Card Games</td>\n",
       "      <td>Maplewood, NJ</td>\n",
       "      <td>failed</td>\n",
       "      <td>4000.0</td>\n",
       "      <td>20.0</td>\n",
       "      <td>0.005000</td>\n",
       "      <td>2</td>\n",
       "      <td>2010-08-02 03:59:00</td>\n",
       "      <td>5</td>\n",
       "      <td>...</td>\n",
       "      <td>Mon</td>\n",
       "      <td>03:59:00</td>\n",
       "      <td>2010-08-02</td>\n",
       "      <td>2010</td>\n",
       "      <td>8</td>\n",
       "      <td>2</td>\n",
       "      <td>Maplewood</td>\n",
       "      <td>NJ</td>\n",
       "      <td>NJ</td>\n",
       "      <td>United States</td>\n",
       "    </tr>\n",
       "    <tr>\n",
       "      <th>3</th>\n",
       "      <td>Film &amp; Video</td>\n",
       "      <td>Documentary</td>\n",
       "      <td>Los Angeles, CA</td>\n",
       "      <td>successful</td>\n",
       "      <td>6000.0</td>\n",
       "      <td>6535.0</td>\n",
       "      <td>1.089167</td>\n",
       "      <td>100</td>\n",
       "      <td>2012-04-08 02:14:00</td>\n",
       "      <td>13</td>\n",
       "      <td>...</td>\n",
       "      <td>Sun</td>\n",
       "      <td>02:14:00</td>\n",
       "      <td>2012-04-08</td>\n",
       "      <td>2012</td>\n",
       "      <td>4</td>\n",
       "      <td>8</td>\n",
       "      <td>Los Angeles</td>\n",
       "      <td>CA</td>\n",
       "      <td>CA</td>\n",
       "      <td>United States</td>\n",
       "    </tr>\n",
       "  </tbody>\n",
       "</table>\n",
       "<p>3 rows × 23 columns</p>\n",
       "</div>"
      ],
      "text/plain": [
       "       category         subcategory         location      status     goal  \\\n",
       "0  Film & Video          Short Film     Columbia, MO  successful  10500.0   \n",
       "1         Games  Board & Card Games    Maplewood, NJ      failed   4000.0   \n",
       "3  Film & Video         Documentary  Los Angeles, CA  successful   6000.0   \n",
       "\n",
       "   pledged  funded_percentage  backers         funded_date  levels  \\\n",
       "0  11545.0           1.099524       66 2011-08-19 19:28:17       7   \n",
       "1     20.0           0.005000        2 2010-08-02 03:59:00       5   \n",
       "3   6535.0           1.089167      100 2012-04-08 02:14:00      13   \n",
       "\n",
       "       ...        funded_day  funded_time  funded_Newdate funded_year  \\\n",
       "0      ...               Fri     19:28:17      2011-08-19        2011   \n",
       "1      ...               Mon     03:59:00      2010-08-02        2010   \n",
       "3      ...               Sun     02:14:00      2012-04-08        2012   \n",
       "\n",
       "  funded_month day_of_month         city  state  STATE        Country  \n",
       "0            8           19     Columbia     MO     MO  United States  \n",
       "1            8            2    Maplewood     NJ     NJ  United States  \n",
       "3            4            8  Los Angeles     CA     CA  United States  \n",
       "\n",
       "[3 rows x 23 columns]"
      ]
     },
     "execution_count": 35,
     "metadata": {},
     "output_type": "execute_result"
    }
   ],
   "source": [
    "df.head(3)"
   ]
  },
  {
   "cell_type": "code",
   "execution_count": 36,
   "metadata": {
    "collapsed": true
   },
   "outputs": [],
   "source": [
    "# Assigning country names using country listed in state column\n",
    "df.loc[df.Country == 'United', 'Country'] = df.loc[df.Country == 'United', 'state']\n",
    "df.loc[df.Country == 'South', 'Country'] = df.loc[df.Country == 'South', 'state']\n",
    "df.loc[df.Country == 'Saint', 'Country'] = df.loc[df.Country == 'Saint', 'state']\n",
    "df.loc[df.Country == 'Saudi', 'Country'] = df.loc[df.Country == 'Saudi', 'state']\n",
    "df.loc[df.Country == 'Mt', 'Country'] = df.loc[df.Country == 'Mt', 'state']\n",
    "df.loc[df.Country == 'Viet', 'Country'] = df.loc[df.Country == 'Viet', 'state']\n",
    "df.loc[df.Country == 'Kyoto', 'Country'] = df.loc[df.Country == 'Kyoto', 'state']\n",
    "df.loc[df.Country == 'Sri', 'Country'] = df.loc[df.Country == 'Sri', 'state']\n",
    "df.loc[df.Country == 'Sierra', 'Country'] = df.loc[df.Country == 'Sierra', 'state']\n",
    "df.loc[df.Country == 'Isle', 'Country'] = df.loc[df.Country == 'Isle', 'state']\n",
    "df.loc[df.Country == 'Central', 'Country'] = df.loc[df.Country == 'Central', 'state']\n",
    "df.loc[df.Country == 'Argent', 'Country'] = df.loc[df.Country == 'Argent', 'state']\n",
    "df.loc[df.Country == 'El', 'Country'] = df.loc[df.Country == 'El', 'state']\n",
    "df.loc[df.Country == 'Costa', 'Country'] = df.loc[df.Country == 'Costa', 'state']\n",
    "df.loc[df.Country == 'Svalbard', 'Country'] = df.loc[df.Country == 'Svalbard', 'state']\n",
    "df.loc[df.Country == 'Virgin', 'Country'] = df.loc[df.Country == 'Virgin', 'state']\n",
    "df.loc[df.Country == 'Czech', 'Country'] = df.loc[df.Country == 'Czech', 'state']\n",
    "df.loc[df.Country == 'New', 'Country'] = df.loc[df.Country == 'New', 'state']\n",
    "df.loc[df.Country == 'Hong', 'Country'] = df.loc[df.Country == 'Hong', 'state']\n",
    "df.loc[df.Country == 'Argentinaina', 'Country'] = df.loc[df.Country == 'Argentinaina', 'state']\n",
    "df.loc[df.Country == 'Puerto', 'Country'] = df.loc[df.Country == 'Puerto', 'state']\n",
    "df.loc[df.Country == 'Papua', 'Country'] = df.loc[df.Country == 'Papua', 'state']\n",
    "df.loc[df.Country == 'Dominican', 'Country'] = df.loc[df.Country == 'Dominican', 'state']\n",
    "df.loc[df.Country == 'Falkland', 'Country'] = df.loc[df.Country == 'Falkland', 'state']\n",
    "df.loc[df.Country == 'Palestinian', 'Country'] = df.loc[df.Country == 'Palestinian', 'state']\n",
    "df.loc[df.Country == 'Palestinian', 'Country'] = df.loc[df.Country == 'Palestinian', 'state']\n",
    "df.loc[df.Country == 'Libyan', 'Country'] = df.loc[df.Country == 'Libyan', 'state']\n",
    "df.loc[df.Country == 'Syrian', 'Country'] = df.loc[df.Country == 'Syrian', 'state']"
   ]
  },
  {
   "cell_type": "code",
   "execution_count": 37,
   "metadata": {
    "collapsed": true
   },
   "outputs": [],
   "source": [
    "# Rename Countries\n",
    "df.Country = df.Country.str.replace('Mt', 'United States ')\n",
    "df.Country = df.Country.str.replace('Kyoto', 'Japan')\n",
    "df.Country = df.Country.str.replace('Argent', 'Argentina')\n",
    "df.Country = df.Country.str.replace('Argentinaina', 'Argentina')\n",
    "df.Country = df.Country.str.replace('Dominican Re', 'Dominican Republic')\n",
    "df.Country = df.Country.str.replace('Congo', 'DR Congo')\n"
   ]
  },
  {
   "cell_type": "code",
   "execution_count": 38,
   "metadata": {
    "collapsed": true
   },
   "outputs": [],
   "source": [
    "# Rename City\n",
    "df.city = df.city.str.replace('Ciudad Aut���_noma De Buenos Aires', 'Buenos Aires')\n",
    "df.city = df.city.str.replace('Lim���_n', 'Lima')\n",
    "df.city = df.city.str.replace('Panam��΍', 'San Jose')\n",
    "df.city = df.city.str.replace('H�Ċܢibiny, ', 'Hradec Králové')"
   ]
  },
  {
   "cell_type": "code",
   "execution_count": 39,
   "metadata": {
    "collapsed": true
   },
   "outputs": [],
   "source": [
    "# Replace the space infront of the changed countries.\n",
    "df.Country = df.Country.str.strip()"
   ]
  },
  {
   "cell_type": "code",
   "execution_count": 40,
   "metadata": {
    "scrolled": true
   },
   "outputs": [
    {
     "data": {
      "text/html": [
       "<div>\n",
       "<style>\n",
       "    .dataframe thead tr:only-child th {\n",
       "        text-align: right;\n",
       "    }\n",
       "\n",
       "    .dataframe thead th {\n",
       "        text-align: left;\n",
       "    }\n",
       "\n",
       "    .dataframe tbody tr th {\n",
       "        vertical-align: top;\n",
       "    }\n",
       "</style>\n",
       "<table border=\"1\" class=\"dataframe\">\n",
       "  <thead>\n",
       "    <tr style=\"text-align: right;\">\n",
       "      <th></th>\n",
       "      <th>category</th>\n",
       "      <th>subcategory</th>\n",
       "      <th>location</th>\n",
       "      <th>status</th>\n",
       "      <th>goal</th>\n",
       "      <th>pledged</th>\n",
       "      <th>funded_percentage</th>\n",
       "      <th>backers</th>\n",
       "      <th>funded_date</th>\n",
       "      <th>levels</th>\n",
       "      <th>...</th>\n",
       "      <th>funded_day</th>\n",
       "      <th>funded_time</th>\n",
       "      <th>funded_Newdate</th>\n",
       "      <th>funded_year</th>\n",
       "      <th>funded_month</th>\n",
       "      <th>day_of_month</th>\n",
       "      <th>city</th>\n",
       "      <th>state</th>\n",
       "      <th>STATE</th>\n",
       "      <th>Country</th>\n",
       "    </tr>\n",
       "  </thead>\n",
       "  <tbody>\n",
       "    <tr>\n",
       "      <th>0</th>\n",
       "      <td>Film &amp; Video</td>\n",
       "      <td>Short Film</td>\n",
       "      <td>Columbia, MO</td>\n",
       "      <td>successful</td>\n",
       "      <td>10500.0</td>\n",
       "      <td>11545.0</td>\n",
       "      <td>1.099524</td>\n",
       "      <td>66</td>\n",
       "      <td>2011-08-19 19:28:17</td>\n",
       "      <td>7</td>\n",
       "      <td>...</td>\n",
       "      <td>Fri</td>\n",
       "      <td>19:28:17</td>\n",
       "      <td>2011-08-19</td>\n",
       "      <td>2011</td>\n",
       "      <td>8</td>\n",
       "      <td>19</td>\n",
       "      <td>Columbia</td>\n",
       "      <td>MO</td>\n",
       "      <td>MO</td>\n",
       "      <td>United States</td>\n",
       "    </tr>\n",
       "    <tr>\n",
       "      <th>1</th>\n",
       "      <td>Games</td>\n",
       "      <td>Board &amp; Card Games</td>\n",
       "      <td>Maplewood, NJ</td>\n",
       "      <td>failed</td>\n",
       "      <td>4000.0</td>\n",
       "      <td>20.0</td>\n",
       "      <td>0.005000</td>\n",
       "      <td>2</td>\n",
       "      <td>2010-08-02 03:59:00</td>\n",
       "      <td>5</td>\n",
       "      <td>...</td>\n",
       "      <td>Mon</td>\n",
       "      <td>03:59:00</td>\n",
       "      <td>2010-08-02</td>\n",
       "      <td>2010</td>\n",
       "      <td>8</td>\n",
       "      <td>2</td>\n",
       "      <td>Maplewood</td>\n",
       "      <td>NJ</td>\n",
       "      <td>NJ</td>\n",
       "      <td>United States</td>\n",
       "    </tr>\n",
       "    <tr>\n",
       "      <th>3</th>\n",
       "      <td>Film &amp; Video</td>\n",
       "      <td>Documentary</td>\n",
       "      <td>Los Angeles, CA</td>\n",
       "      <td>successful</td>\n",
       "      <td>6000.0</td>\n",
       "      <td>6535.0</td>\n",
       "      <td>1.089167</td>\n",
       "      <td>100</td>\n",
       "      <td>2012-04-08 02:14:00</td>\n",
       "      <td>13</td>\n",
       "      <td>...</td>\n",
       "      <td>Sun</td>\n",
       "      <td>02:14:00</td>\n",
       "      <td>2012-04-08</td>\n",
       "      <td>2012</td>\n",
       "      <td>4</td>\n",
       "      <td>8</td>\n",
       "      <td>Los Angeles</td>\n",
       "      <td>CA</td>\n",
       "      <td>CA</td>\n",
       "      <td>United States</td>\n",
       "    </tr>\n",
       "    <tr>\n",
       "      <th>4</th>\n",
       "      <td>Fashion</td>\n",
       "      <td>Fashion</td>\n",
       "      <td>Novi, MI</td>\n",
       "      <td>failed</td>\n",
       "      <td>3500.0</td>\n",
       "      <td>0.0</td>\n",
       "      <td>0.000000</td>\n",
       "      <td>0</td>\n",
       "      <td>2011-06-01 15:25:39</td>\n",
       "      <td>6</td>\n",
       "      <td>...</td>\n",
       "      <td>Wed</td>\n",
       "      <td>15:25:39</td>\n",
       "      <td>2011-06-01</td>\n",
       "      <td>2011</td>\n",
       "      <td>6</td>\n",
       "      <td>1</td>\n",
       "      <td>Novi</td>\n",
       "      <td>MI</td>\n",
       "      <td>MI</td>\n",
       "      <td>United States</td>\n",
       "    </tr>\n",
       "    <tr>\n",
       "      <th>5</th>\n",
       "      <td>Film &amp; Video</td>\n",
       "      <td>Short Film</td>\n",
       "      <td>Portland, OR</td>\n",
       "      <td>successful</td>\n",
       "      <td>3500.0</td>\n",
       "      <td>3582.0</td>\n",
       "      <td>1.023331</td>\n",
       "      <td>39</td>\n",
       "      <td>2011-06-22 13:33:00</td>\n",
       "      <td>7</td>\n",
       "      <td>...</td>\n",
       "      <td>Wed</td>\n",
       "      <td>13:33:00</td>\n",
       "      <td>2011-06-22</td>\n",
       "      <td>2011</td>\n",
       "      <td>6</td>\n",
       "      <td>22</td>\n",
       "      <td>Portland</td>\n",
       "      <td>OR</td>\n",
       "      <td>OR</td>\n",
       "      <td>United States</td>\n",
       "    </tr>\n",
       "  </tbody>\n",
       "</table>\n",
       "<p>5 rows × 23 columns</p>\n",
       "</div>"
      ],
      "text/plain": [
       "       category         subcategory         location      status     goal  \\\n",
       "0  Film & Video          Short Film     Columbia, MO  successful  10500.0   \n",
       "1         Games  Board & Card Games    Maplewood, NJ      failed   4000.0   \n",
       "3  Film & Video         Documentary  Los Angeles, CA  successful   6000.0   \n",
       "4       Fashion             Fashion         Novi, MI      failed   3500.0   \n",
       "5  Film & Video          Short Film     Portland, OR  successful   3500.0   \n",
       "\n",
       "   pledged  funded_percentage  backers         funded_date  levels  \\\n",
       "0  11545.0           1.099524       66 2011-08-19 19:28:17       7   \n",
       "1     20.0           0.005000        2 2010-08-02 03:59:00       5   \n",
       "3   6535.0           1.089167      100 2012-04-08 02:14:00      13   \n",
       "4      0.0           0.000000        0 2011-06-01 15:25:39       6   \n",
       "5   3582.0           1.023331       39 2011-06-22 13:33:00       7   \n",
       "\n",
       "       ...        funded_day  funded_time  funded_Newdate funded_year  \\\n",
       "0      ...               Fri     19:28:17      2011-08-19        2011   \n",
       "1      ...               Mon     03:59:00      2010-08-02        2010   \n",
       "3      ...               Sun     02:14:00      2012-04-08        2012   \n",
       "4      ...               Wed     15:25:39      2011-06-01        2011   \n",
       "5      ...               Wed     13:33:00      2011-06-22        2011   \n",
       "\n",
       "  funded_month day_of_month         city  state  STATE        Country  \n",
       "0            8           19     Columbia     MO     MO  United States  \n",
       "1            8            2    Maplewood     NJ     NJ  United States  \n",
       "3            4            8  Los Angeles     CA     CA  United States  \n",
       "4            6            1         Novi     MI     MI  United States  \n",
       "5            6           22     Portland     OR     OR  United States  \n",
       "\n",
       "[5 rows x 23 columns]"
      ]
     },
     "execution_count": 40,
     "metadata": {},
     "output_type": "execute_result"
    }
   ],
   "source": [
    "df.head(5)"
   ]
  },
  {
   "cell_type": "code",
   "execution_count": 41,
   "metadata": {
    "collapsed": true
   },
   "outputs": [],
   "source": [
    "df.drop(['state', 'location', 'funded_date', 'funded_time', 'funded_year'], axis =1, inplace = True)"
   ]
  },
  {
   "cell_type": "code",
   "execution_count": 42,
   "metadata": {},
   "outputs": [
    {
     "data": {
      "text/html": [
       "<div>\n",
       "<style>\n",
       "    .dataframe thead tr:only-child th {\n",
       "        text-align: right;\n",
       "    }\n",
       "\n",
       "    .dataframe thead th {\n",
       "        text-align: left;\n",
       "    }\n",
       "\n",
       "    .dataframe tbody tr th {\n",
       "        vertical-align: top;\n",
       "    }\n",
       "</style>\n",
       "<table border=\"1\" class=\"dataframe\">\n",
       "  <thead>\n",
       "    <tr style=\"text-align: right;\">\n",
       "      <th></th>\n",
       "      <th>category</th>\n",
       "      <th>subcategory</th>\n",
       "      <th>status</th>\n",
       "      <th>goal</th>\n",
       "      <th>pledged</th>\n",
       "      <th>funded_percentage</th>\n",
       "      <th>backers</th>\n",
       "      <th>levels</th>\n",
       "      <th>updates</th>\n",
       "      <th>comments</th>\n",
       "      <th>duration</th>\n",
       "      <th>funded_day</th>\n",
       "      <th>funded_Newdate</th>\n",
       "      <th>funded_month</th>\n",
       "      <th>day_of_month</th>\n",
       "      <th>city</th>\n",
       "      <th>STATE</th>\n",
       "      <th>Country</th>\n",
       "    </tr>\n",
       "  </thead>\n",
       "  <tbody>\n",
       "    <tr>\n",
       "      <th>0</th>\n",
       "      <td>Film &amp; Video</td>\n",
       "      <td>Short Film</td>\n",
       "      <td>successful</td>\n",
       "      <td>10500.0</td>\n",
       "      <td>11545.0</td>\n",
       "      <td>1.099524</td>\n",
       "      <td>66</td>\n",
       "      <td>7</td>\n",
       "      <td>10</td>\n",
       "      <td>2</td>\n",
       "      <td>30.00</td>\n",
       "      <td>Fri</td>\n",
       "      <td>2011-08-19</td>\n",
       "      <td>8</td>\n",
       "      <td>19</td>\n",
       "      <td>Columbia</td>\n",
       "      <td>MO</td>\n",
       "      <td>United States</td>\n",
       "    </tr>\n",
       "    <tr>\n",
       "      <th>1</th>\n",
       "      <td>Games</td>\n",
       "      <td>Board &amp; Card Games</td>\n",
       "      <td>failed</td>\n",
       "      <td>4000.0</td>\n",
       "      <td>20.0</td>\n",
       "      <td>0.005000</td>\n",
       "      <td>2</td>\n",
       "      <td>5</td>\n",
       "      <td>6</td>\n",
       "      <td>0</td>\n",
       "      <td>47.18</td>\n",
       "      <td>Mon</td>\n",
       "      <td>2010-08-02</td>\n",
       "      <td>8</td>\n",
       "      <td>2</td>\n",
       "      <td>Maplewood</td>\n",
       "      <td>NJ</td>\n",
       "      <td>United States</td>\n",
       "    </tr>\n",
       "    <tr>\n",
       "      <th>3</th>\n",
       "      <td>Film &amp; Video</td>\n",
       "      <td>Documentary</td>\n",
       "      <td>successful</td>\n",
       "      <td>6000.0</td>\n",
       "      <td>6535.0</td>\n",
       "      <td>1.089167</td>\n",
       "      <td>100</td>\n",
       "      <td>13</td>\n",
       "      <td>4</td>\n",
       "      <td>0</td>\n",
       "      <td>32.22</td>\n",
       "      <td>Sun</td>\n",
       "      <td>2012-04-08</td>\n",
       "      <td>4</td>\n",
       "      <td>8</td>\n",
       "      <td>Los Angeles</td>\n",
       "      <td>CA</td>\n",
       "      <td>United States</td>\n",
       "    </tr>\n",
       "    <tr>\n",
       "      <th>4</th>\n",
       "      <td>Fashion</td>\n",
       "      <td>Fashion</td>\n",
       "      <td>failed</td>\n",
       "      <td>3500.0</td>\n",
       "      <td>0.0</td>\n",
       "      <td>0.000000</td>\n",
       "      <td>0</td>\n",
       "      <td>6</td>\n",
       "      <td>2</td>\n",
       "      <td>0</td>\n",
       "      <td>30.00</td>\n",
       "      <td>Wed</td>\n",
       "      <td>2011-06-01</td>\n",
       "      <td>6</td>\n",
       "      <td>1</td>\n",
       "      <td>Novi</td>\n",
       "      <td>MI</td>\n",
       "      <td>United States</td>\n",
       "    </tr>\n",
       "    <tr>\n",
       "      <th>5</th>\n",
       "      <td>Film &amp; Video</td>\n",
       "      <td>Short Film</td>\n",
       "      <td>successful</td>\n",
       "      <td>3500.0</td>\n",
       "      <td>3582.0</td>\n",
       "      <td>1.023331</td>\n",
       "      <td>39</td>\n",
       "      <td>7</td>\n",
       "      <td>8</td>\n",
       "      <td>0</td>\n",
       "      <td>21.43</td>\n",
       "      <td>Wed</td>\n",
       "      <td>2011-06-22</td>\n",
       "      <td>6</td>\n",
       "      <td>22</td>\n",
       "      <td>Portland</td>\n",
       "      <td>OR</td>\n",
       "      <td>United States</td>\n",
       "    </tr>\n",
       "  </tbody>\n",
       "</table>\n",
       "</div>"
      ],
      "text/plain": [
       "       category         subcategory      status     goal  pledged  \\\n",
       "0  Film & Video          Short Film  successful  10500.0  11545.0   \n",
       "1         Games  Board & Card Games      failed   4000.0     20.0   \n",
       "3  Film & Video         Documentary  successful   6000.0   6535.0   \n",
       "4       Fashion             Fashion      failed   3500.0      0.0   \n",
       "5  Film & Video          Short Film  successful   3500.0   3582.0   \n",
       "\n",
       "   funded_percentage  backers  levels  updates  comments  duration funded_day  \\\n",
       "0           1.099524       66       7       10         2     30.00        Fri   \n",
       "1           0.005000        2       5        6         0     47.18        Mon   \n",
       "3           1.089167      100      13        4         0     32.22        Sun   \n",
       "4           0.000000        0       6        2         0     30.00        Wed   \n",
       "5           1.023331       39       7        8         0     21.43        Wed   \n",
       "\n",
       "  funded_Newdate  funded_month  day_of_month         city STATE        Country  \n",
       "0     2011-08-19             8            19     Columbia    MO  United States  \n",
       "1     2010-08-02             8             2    Maplewood    NJ  United States  \n",
       "3     2012-04-08             4             8  Los Angeles    CA  United States  \n",
       "4     2011-06-01             6             1         Novi    MI  United States  \n",
       "5     2011-06-22             6            22     Portland    OR  United States  "
      ]
     },
     "execution_count": 42,
     "metadata": {},
     "output_type": "execute_result"
    }
   ],
   "source": [
    "df.head()"
   ]
  },
  {
   "cell_type": "code",
   "execution_count": 43,
   "metadata": {
    "scrolled": true
   },
   "outputs": [
    {
     "data": {
      "text/plain": [
       "category\n",
       "Art                 4.017564\n",
       "Comics              2.241419\n",
       "Dance               1.076722\n",
       "Design              3.631730\n",
       "Fashion             1.131446\n",
       "Film & Video        0.734036\n",
       "Film &amp; Video    2.800368\n",
       "Food                1.058049\n",
       "Games               1.449345\n",
       "Music               1.300571\n",
       "Photography         0.676201\n",
       "Publishing          1.051070\n",
       "Technology          1.114762\n",
       "Theater             1.396750\n",
       "Name: funded_percentage, dtype: float64"
      ]
     },
     "execution_count": 43,
     "metadata": {},
     "output_type": "execute_result"
    }
   ],
   "source": [
    "# Funded Percentage of each categories\n",
    "df.groupby('category').funded_percentage.mean()"
   ]
  },
  {
   "cell_type": "code",
   "execution_count": 44,
   "metadata": {
    "collapsed": true
   },
   "outputs": [],
   "source": [
    "#bins = (0, 1, 2, 3, 4, 5, 6, 7, 8, 9, 10, 11, 12)\n",
    "#group_names = ['Jan', 'Feb', 'Mar', 'Apr', 'May', 'Jun', 'July', 'Aug', 'Sep', 'Oct', 'Nov', 'Dec']\n",
    "#categories = pd.cut(df.funded_month, bins, labels=group_names)\n",
    "#df.funded_month = categories"
   ]
  },
  {
   "cell_type": "code",
   "execution_count": 45,
   "metadata": {
    "collapsed": true
   },
   "outputs": [],
   "source": [
    "# df.to_csv('cleaned_kickstarter.csv', index = False)"
   ]
  },
  {
   "cell_type": "code",
   "execution_count": 46,
   "metadata": {
    "collapsed": true
   },
   "outputs": [],
   "source": [
    "#df['status'] = df.status.str.contains('successful').astype(int)"
   ]
  },
  {
   "cell_type": "code",
   "execution_count": 47,
   "metadata": {
    "collapsed": true
   },
   "outputs": [],
   "source": [
    "df.rename(columns={'STATE':'state'}, inplace =True)"
   ]
  },
  {
   "cell_type": "code",
   "execution_count": 48,
   "metadata": {},
   "outputs": [
    {
     "data": {
      "text/html": [
       "<div>\n",
       "<style>\n",
       "    .dataframe thead tr:only-child th {\n",
       "        text-align: right;\n",
       "    }\n",
       "\n",
       "    .dataframe thead th {\n",
       "        text-align: left;\n",
       "    }\n",
       "\n",
       "    .dataframe tbody tr th {\n",
       "        vertical-align: top;\n",
       "    }\n",
       "</style>\n",
       "<table border=\"1\" class=\"dataframe\">\n",
       "  <thead>\n",
       "    <tr style=\"text-align: right;\">\n",
       "      <th></th>\n",
       "      <th>category</th>\n",
       "      <th>subcategory</th>\n",
       "      <th>status</th>\n",
       "      <th>goal</th>\n",
       "      <th>pledged</th>\n",
       "      <th>funded_percentage</th>\n",
       "      <th>backers</th>\n",
       "      <th>levels</th>\n",
       "      <th>updates</th>\n",
       "      <th>comments</th>\n",
       "      <th>duration</th>\n",
       "      <th>funded_day</th>\n",
       "      <th>funded_Newdate</th>\n",
       "      <th>funded_month</th>\n",
       "      <th>day_of_month</th>\n",
       "      <th>city</th>\n",
       "      <th>state</th>\n",
       "      <th>Country</th>\n",
       "    </tr>\n",
       "  </thead>\n",
       "  <tbody>\n",
       "    <tr>\n",
       "      <th>0</th>\n",
       "      <td>Film &amp; Video</td>\n",
       "      <td>Short Film</td>\n",
       "      <td>successful</td>\n",
       "      <td>10500.0</td>\n",
       "      <td>11545.0</td>\n",
       "      <td>1.099524</td>\n",
       "      <td>66</td>\n",
       "      <td>7</td>\n",
       "      <td>10</td>\n",
       "      <td>2</td>\n",
       "      <td>30.00</td>\n",
       "      <td>Fri</td>\n",
       "      <td>2011-08-19</td>\n",
       "      <td>8</td>\n",
       "      <td>19</td>\n",
       "      <td>Columbia</td>\n",
       "      <td>MO</td>\n",
       "      <td>United States</td>\n",
       "    </tr>\n",
       "    <tr>\n",
       "      <th>1</th>\n",
       "      <td>Games</td>\n",
       "      <td>Board &amp; Card Games</td>\n",
       "      <td>failed</td>\n",
       "      <td>4000.0</td>\n",
       "      <td>20.0</td>\n",
       "      <td>0.005000</td>\n",
       "      <td>2</td>\n",
       "      <td>5</td>\n",
       "      <td>6</td>\n",
       "      <td>0</td>\n",
       "      <td>47.18</td>\n",
       "      <td>Mon</td>\n",
       "      <td>2010-08-02</td>\n",
       "      <td>8</td>\n",
       "      <td>2</td>\n",
       "      <td>Maplewood</td>\n",
       "      <td>NJ</td>\n",
       "      <td>United States</td>\n",
       "    </tr>\n",
       "  </tbody>\n",
       "</table>\n",
       "</div>"
      ],
      "text/plain": [
       "       category         subcategory      status     goal  pledged  \\\n",
       "0  Film & Video          Short Film  successful  10500.0  11545.0   \n",
       "1         Games  Board & Card Games      failed   4000.0     20.0   \n",
       "\n",
       "   funded_percentage  backers  levels  updates  comments  duration funded_day  \\\n",
       "0           1.099524       66       7       10         2     30.00        Fri   \n",
       "1           0.005000        2       5        6         0     47.18        Mon   \n",
       "\n",
       "  funded_Newdate  funded_month  day_of_month       city state        Country  \n",
       "0     2011-08-19             8            19   Columbia    MO  United States  \n",
       "1     2010-08-02             8             2  Maplewood    NJ  United States  "
      ]
     },
     "execution_count": 48,
     "metadata": {},
     "output_type": "execute_result"
    }
   ],
   "source": [
    "df.head(2)"
   ]
  },
  {
   "cell_type": "code",
   "execution_count": 49,
   "metadata": {},
   "outputs": [
    {
     "data": {
      "text/plain": [
       "array(['United States', 'Taiwan', 'Norway', 'Chile', 'Haiti', 'Canada',\n",
       "       'Ecuador', 'Jamaica', 'Argentina', 'Hong Kong', 'Germany',\n",
       "       'Guatemala', 'Australia', 'Sweden', 'South Africa', 'Nepal',\n",
       "       'Kenya', 'Bosnia', 'Iceland', 'Mexico', 'Hungary', 'Indonesia',\n",
       "       'China', 'Cuba', 'Peru', 'Italy', 'Netherlands', 'Singapore',\n",
       "       'Ethiopia', 'New Zealand', 'France', 'United Kingdom', 'Austria',\n",
       "       'Turkey', 'DR Congo', 'Colombia', 'India', 'Mongolia', 'Israel',\n",
       "       'Dominica', 'Finland', 'Czech Republic', 'Japan', 'Virgin Islands',\n",
       "       'Lebanon', 'Armenia', 'Portugal', 'Qatar', 'Morocco', 'Martinique',\n",
       "       'Puerto Rico', 'Afghanistan', 'Denmark', 'Tanzania', 'Kazakhstan',\n",
       "       'Zambia', 'Switzerland', 'Egypt', 'Svalbard and Jan Mayen',\n",
       "       'Liberia', 'Ghana', 'Nicaragua', 'Russia', 'Ukraine', 'Bulgaria',\n",
       "       'South Korea', 'Brazil', 'Rwanda', 'Spain', 'Costa Rica',\n",
       "       'Philippines', 'Pakistan', 'El Salvador', 'Panama',\n",
       "       'United Arab Emirates', 'Honduras', 'Palestinian Territories',\n",
       "       'Poland', 'Georgia', 'Syrian Arab Republic', 'Cambodia', 'Nigeria',\n",
       "       'Mali', 'Saudi Arabia', 'Iraq', 'Cameroon', 'Namibia', 'Ireland',\n",
       "       'Bolivia', 'Venezuela', 'Thailand', 'Jordan', 'Zimbabwe', 'Iran',\n",
       "       'Tunisia', 'Greece', 'Sierra Leone', 'Isle of Man',\n",
       "       'Central African Republic', 'Serbia', 'Belize', 'Uganda', 'Malta',\n",
       "       'Slovenia', 'Sudan', 'Belgium', 'Myanmar', 'Malaysia', 'Greenland',\n",
       "       'Senegal', 'Bahamas', 'Malawi', 'Romania', 'Mozambique', 'Bhutan',\n",
       "       'Lithuania', 'Micronesia', 'Tajikistan', 'Sri Lanka',\n",
       "       'Libyan Arab Jamahiriya', 'Guinea', 'Bermuda', 'Belarus', 'Estonia',\n",
       "       'Suriname', 'Dominican Republicpublic', 'Vanuatu', 'Trinidad',\n",
       "       'Cyprus', 'Macedonia', 'Viet Nam', 'Swaziland', 'Falkland Islands',\n",
       "       'Kyrgyzstan', 'Bangladesh', 'Laos', 'Middleburg',\n",
       "       'Papua New Guinea', 'Uruguay', 'Guam', 'Dominican Republic',\n",
       "       'Saint Lucia'], dtype=object)"
      ]
     },
     "execution_count": 49,
     "metadata": {},
     "output_type": "execute_result"
    }
   ],
   "source": [
    "df.Country.unique()"
   ]
  },
  {
   "cell_type": "code",
   "execution_count": 50,
   "metadata": {
    "collapsed": true
   },
   "outputs": [],
   "source": [
    "# df.state = pd.to_numeric(df.state, errors='coerce').fillna(0).astype(np.int64)"
   ]
  },
  {
   "cell_type": "code",
   "execution_count": 51,
   "metadata": {
    "collapsed": true
   },
   "outputs": [],
   "source": [
    "def classifier(row):\n",
    "    if row.Country in ['United States', 'Canada', 'Guatemala', 'Mexico', 'Puerto Rico', 'Nicaragua', 'El Salvador', 'Panama', 'Bolivia', 'Middleburg', 'Guam']:\n",
    "        return 'America'\n",
    "    elif row.Country in ['Nigeria', 'Ghana', 'South Africa', 'Kenya', 'Ethiopia', 'DR Congo', 'Morocco', 'Tanzania', 'Zambia', 'Liberia', 'Rwanda', 'Mali', 'Cameroon', 'Namibia', 'Zimbabwe', 'Tunisia', 'Sierra Leone', 'Central African Republic', 'Uganda', 'Sudan', 'Senegal', 'Malawi', 'Mozambique', 'Libyan Arab Jamahiriya', 'Guinea', 'Swaziland']:\n",
    "        return 'Africa'\n",
    "    elif row.Country in ['United Kingdom', 'Norway', 'Germany', 'Sweden', 'Bosnia', 'Iceland', 'Hungary', 'Italy', 'Netherlands','France', 'United Kingdom', 'Austria',\n",
    "       'Turkey','Finland', 'Czech Republic','Armenia', 'Portugal','Denmark','Switzerland', 'Svalbard and Jan Mayen', 'Russia', 'Ukraine', 'Bulgaria','Spain','Poland', 'Georgia','Ireland','Greece','Serbia','Slovenia','Belgium','Greenland','Romania','Lithuania', 'Micronesia','Estonia','Cyprus', 'Macedonia','Kyrgyzstan',]:\n",
    "        return 'Europe'\n",
    "    elif row.Country in ['Jamaica', 'Haiti','Bahamas','Dominican Republic','Saint Lucia', 'Dominican Republicpublic', 'Trinidad']:\n",
    "        return 'Carribean'\n",
    "    elif row.Country in ['China', 'Taiwan', 'Hong Kong', 'Nepal', 'Indonesia', 'Singapore', 'India', 'Japan', 'Lebanon', 'Kazakhstan', 'South Korea', 'Philippines', 'Cambodia', 'Thailand','Malaysia','Bhutan','Sri Lanka','Bermuda','Viet Nam','Bangladesh', 'Laos','Guam']:\n",
    "        return 'Asia'\n",
    "    elif row.Country in ['Israel','Qatar', 'Afghanistan','Kazakhstan','United Arab Emirates','Palestinian Territories','Syrian Arab Republic','Saudi Arabia', 'Iraq','Iran','Tajikistan',]:\n",
    "        return 'Arab'\n",
    "    else:\n",
    "        return \"Oceania\"   \n",
    "df[\"continent\"] = df.apply(classifier, axis=1)"
   ]
  },
  {
   "cell_type": "code",
   "execution_count": 52,
   "metadata": {},
   "outputs": [
    {
     "data": {
      "text/plain": [
       "America      38944\n",
       "Europe         766\n",
       "Asia           322\n",
       "Oceania        301\n",
       "Africa         182\n",
       "Arab            78\n",
       "Carribean       49\n",
       "Name: continent, dtype: int64"
      ]
     },
     "execution_count": 52,
     "metadata": {},
     "output_type": "execute_result"
    }
   ],
   "source": [
    "df.continent.value_counts()"
   ]
  },
  {
   "cell_type": "code",
   "execution_count": 53,
   "metadata": {
    "collapsed": true
   },
   "outputs": [],
   "source": [
    "# from sklearn import preprocessing\n",
    "# def encode_features(df):\n",
    "#     features = ['category', 'status', 'subcategory', 'state', 'pledged', 'backers', 'duration', 'funded_month', 'city']\n",
    "#     df_combined = pd.concat([df])\n",
    "    \n",
    "#     for feature in features:\n",
    "#         le = preprocessing.LabelEncoder()\n",
    "#         le = le.fit(df_combined[feature])\n",
    "#         df[feature] = le.transform(df[feature])\n",
    "#     return df\n",
    "    \n",
    "# data = encode_features(df)\n",
    "# data.head()"
   ]
  },
  {
   "cell_type": "code",
   "execution_count": 54,
   "metadata": {},
   "outputs": [
    {
     "data": {
      "text/html": [
       "<div>\n",
       "<style>\n",
       "    .dataframe thead tr:only-child th {\n",
       "        text-align: right;\n",
       "    }\n",
       "\n",
       "    .dataframe thead th {\n",
       "        text-align: left;\n",
       "    }\n",
       "\n",
       "    .dataframe tbody tr th {\n",
       "        vertical-align: top;\n",
       "    }\n",
       "</style>\n",
       "<table border=\"1\" class=\"dataframe\">\n",
       "  <thead>\n",
       "    <tr style=\"text-align: right;\">\n",
       "      <th></th>\n",
       "      <th>category</th>\n",
       "      <th>subcategory</th>\n",
       "      <th>status</th>\n",
       "      <th>goal</th>\n",
       "      <th>pledged</th>\n",
       "      <th>funded_percentage</th>\n",
       "      <th>backers</th>\n",
       "      <th>levels</th>\n",
       "      <th>updates</th>\n",
       "      <th>comments</th>\n",
       "      <th>duration</th>\n",
       "      <th>funded_day</th>\n",
       "      <th>funded_Newdate</th>\n",
       "      <th>funded_month</th>\n",
       "      <th>day_of_month</th>\n",
       "      <th>city</th>\n",
       "      <th>state</th>\n",
       "      <th>Country</th>\n",
       "      <th>continent</th>\n",
       "    </tr>\n",
       "  </thead>\n",
       "  <tbody>\n",
       "    <tr>\n",
       "      <th>0</th>\n",
       "      <td>Film &amp; Video</td>\n",
       "      <td>Short Film</td>\n",
       "      <td>successful</td>\n",
       "      <td>10500.0</td>\n",
       "      <td>11545.0</td>\n",
       "      <td>1.099524</td>\n",
       "      <td>66</td>\n",
       "      <td>7</td>\n",
       "      <td>10</td>\n",
       "      <td>2</td>\n",
       "      <td>30.00</td>\n",
       "      <td>Fri</td>\n",
       "      <td>2011-08-19</td>\n",
       "      <td>8</td>\n",
       "      <td>19</td>\n",
       "      <td>Columbia</td>\n",
       "      <td>MO</td>\n",
       "      <td>United States</td>\n",
       "      <td>America</td>\n",
       "    </tr>\n",
       "    <tr>\n",
       "      <th>1</th>\n",
       "      <td>Games</td>\n",
       "      <td>Board &amp; Card Games</td>\n",
       "      <td>failed</td>\n",
       "      <td>4000.0</td>\n",
       "      <td>20.0</td>\n",
       "      <td>0.005000</td>\n",
       "      <td>2</td>\n",
       "      <td>5</td>\n",
       "      <td>6</td>\n",
       "      <td>0</td>\n",
       "      <td>47.18</td>\n",
       "      <td>Mon</td>\n",
       "      <td>2010-08-02</td>\n",
       "      <td>8</td>\n",
       "      <td>2</td>\n",
       "      <td>Maplewood</td>\n",
       "      <td>NJ</td>\n",
       "      <td>United States</td>\n",
       "      <td>America</td>\n",
       "    </tr>\n",
       "    <tr>\n",
       "      <th>3</th>\n",
       "      <td>Film &amp; Video</td>\n",
       "      <td>Documentary</td>\n",
       "      <td>successful</td>\n",
       "      <td>6000.0</td>\n",
       "      <td>6535.0</td>\n",
       "      <td>1.089167</td>\n",
       "      <td>100</td>\n",
       "      <td>13</td>\n",
       "      <td>4</td>\n",
       "      <td>0</td>\n",
       "      <td>32.22</td>\n",
       "      <td>Sun</td>\n",
       "      <td>2012-04-08</td>\n",
       "      <td>4</td>\n",
       "      <td>8</td>\n",
       "      <td>Los Angeles</td>\n",
       "      <td>CA</td>\n",
       "      <td>United States</td>\n",
       "      <td>America</td>\n",
       "    </tr>\n",
       "    <tr>\n",
       "      <th>4</th>\n",
       "      <td>Fashion</td>\n",
       "      <td>Fashion</td>\n",
       "      <td>failed</td>\n",
       "      <td>3500.0</td>\n",
       "      <td>0.0</td>\n",
       "      <td>0.000000</td>\n",
       "      <td>0</td>\n",
       "      <td>6</td>\n",
       "      <td>2</td>\n",
       "      <td>0</td>\n",
       "      <td>30.00</td>\n",
       "      <td>Wed</td>\n",
       "      <td>2011-06-01</td>\n",
       "      <td>6</td>\n",
       "      <td>1</td>\n",
       "      <td>Novi</td>\n",
       "      <td>MI</td>\n",
       "      <td>United States</td>\n",
       "      <td>America</td>\n",
       "    </tr>\n",
       "    <tr>\n",
       "      <th>5</th>\n",
       "      <td>Film &amp; Video</td>\n",
       "      <td>Short Film</td>\n",
       "      <td>successful</td>\n",
       "      <td>3500.0</td>\n",
       "      <td>3582.0</td>\n",
       "      <td>1.023331</td>\n",
       "      <td>39</td>\n",
       "      <td>7</td>\n",
       "      <td>8</td>\n",
       "      <td>0</td>\n",
       "      <td>21.43</td>\n",
       "      <td>Wed</td>\n",
       "      <td>2011-06-22</td>\n",
       "      <td>6</td>\n",
       "      <td>22</td>\n",
       "      <td>Portland</td>\n",
       "      <td>OR</td>\n",
       "      <td>United States</td>\n",
       "      <td>America</td>\n",
       "    </tr>\n",
       "  </tbody>\n",
       "</table>\n",
       "</div>"
      ],
      "text/plain": [
       "       category         subcategory      status     goal  pledged  \\\n",
       "0  Film & Video          Short Film  successful  10500.0  11545.0   \n",
       "1         Games  Board & Card Games      failed   4000.0     20.0   \n",
       "3  Film & Video         Documentary  successful   6000.0   6535.0   \n",
       "4       Fashion             Fashion      failed   3500.0      0.0   \n",
       "5  Film & Video          Short Film  successful   3500.0   3582.0   \n",
       "\n",
       "   funded_percentage  backers  levels  updates  comments  duration funded_day  \\\n",
       "0           1.099524       66       7       10         2     30.00        Fri   \n",
       "1           0.005000        2       5        6         0     47.18        Mon   \n",
       "3           1.089167      100      13        4         0     32.22        Sun   \n",
       "4           0.000000        0       6        2         0     30.00        Wed   \n",
       "5           1.023331       39       7        8         0     21.43        Wed   \n",
       "\n",
       "  funded_Newdate  funded_month  day_of_month         city state  \\\n",
       "0     2011-08-19             8            19     Columbia    MO   \n",
       "1     2010-08-02             8             2    Maplewood    NJ   \n",
       "3     2012-04-08             4             8  Los Angeles    CA   \n",
       "4     2011-06-01             6             1         Novi    MI   \n",
       "5     2011-06-22             6            22     Portland    OR   \n",
       "\n",
       "         Country continent  \n",
       "0  United States   America  \n",
       "1  United States   America  \n",
       "3  United States   America  \n",
       "4  United States   America  \n",
       "5  United States   America  "
      ]
     },
     "execution_count": 54,
     "metadata": {},
     "output_type": "execute_result"
    }
   ],
   "source": [
    "df.head()"
   ]
  },
  {
   "cell_type": "code",
   "execution_count": 55,
   "metadata": {
    "scrolled": true
   },
   "outputs": [
    {
     "data": {
      "text/plain": [
       "America      38944\n",
       "Europe         766\n",
       "Asia           322\n",
       "Oceania        301\n",
       "Africa         182\n",
       "Arab            78\n",
       "Carribean       49\n",
       "Name: continent, dtype: int64"
      ]
     },
     "execution_count": 55,
     "metadata": {},
     "output_type": "execute_result"
    }
   ],
   "source": [
    "df.continent.value_counts()"
   ]
  },
  {
   "cell_type": "code",
   "execution_count": 56,
   "metadata": {},
   "outputs": [
    {
     "data": {
      "text/plain": [
       "<matplotlib.axes._subplots.AxesSubplot at 0x11beb8a90>"
      ]
     },
     "execution_count": 56,
     "metadata": {},
     "output_type": "execute_result"
    },
    {
     "data": {
      "image/png": "[encoded data removed]",
      "text/plain": [
       "<matplotlib.figure.Figure at 0x1161f8910>"
      ]
     },
     "metadata": {},
     "output_type": "display_data"
    }
   ],
   "source": [
    "sns.countplot(x='continent',data=df,hue='status')"
   ]
  },
  {
   "cell_type": "code",
   "execution_count": 57,
   "metadata": {},
   "outputs": [
    {
     "data": {
      "text/plain": [
       "successful    0.549628\n",
       "failed        0.450372\n",
       "Name: status, dtype: float64"
      ]
     },
     "execution_count": 57,
     "metadata": {},
     "output_type": "execute_result"
    }
   ],
   "source": [
    "df.status.value_counts(normalize = True)"
   ]
  },
  {
   "cell_type": "code",
   "execution_count": 58,
   "metadata": {},
   "outputs": [
    {
     "data": {
      "text/plain": [
       "<matplotlib.axes._subplots.AxesSubplot at 0x11bd96a10>"
      ]
     },
     "execution_count": 58,
     "metadata": {},
     "output_type": "execute_result"
    },
    {
     "data": {
      "image/png": "[encoded data removed]",
      "text/plain": [
       "<matplotlib.figure.Figure at 0x11be51090>"
      ]
     },
     "metadata": {},
     "output_type": "display_data"
    }
   ],
   "source": [
    "sns.countplot(x='status',data=df)  # 55% of projects launched were successful, and 45% failed"
   ]
  },
  {
   "cell_type": "code",
   "execution_count": 59,
   "metadata": {},
   "outputs": [
    {
     "data": {
      "text/plain": [
       "<matplotlib.axes._subplots.AxesSubplot at 0x11bd96c50>"
      ]
     },
     "execution_count": 59,
     "metadata": {},
     "output_type": "execute_result"
    },
    {
     "data": {
      "image/png": "[encoded data removed]",
      "text/plain": [
       "<matplotlib.figure.Figure at 0x10a05f110>"
      ]
     },
     "metadata": {},
     "output_type": "display_data"
    }
   ],
   "source": [
    "# .sort_index() was used to keep \"successful\" and \"failed\" in their respective order\n",
    "color = ['r', 'g']\n",
    "\n",
    "df.groupby('continent').status.value_counts(normalize = True).sort_index().plot(kind = 'bar', color = color)"
   ]
  },
  {
   "cell_type": "code",
   "execution_count": 60,
   "metadata": {},
   "outputs": [
    {
     "data": {
      "text/plain": [
       "<matplotlib.axes._subplots.AxesSubplot at 0x11c275690>"
      ]
     },
     "execution_count": 60,
     "metadata": {},
     "output_type": "execute_result"
    },
    {
     "data": {
      "image/png": "[encoded data removed]",
      "text/plain": [
       "<matplotlib.figure.Figure at 0x1162eea10>"
      ]
     },
     "metadata": {},
     "output_type": "display_data"
    }
   ],
   "source": [
    "color = ['r', 'g']\n",
    "\n",
    "df.groupby('state').status.value_counts(normalize = True).sort_index().plot(kind = 'bar', color = color, figsize=(20, 6))"
   ]
  },
  {
   "cell_type": "code",
   "execution_count": 61,
   "metadata": {
    "scrolled": true
   },
   "outputs": [
    {
     "data": {
      "text/plain": [
       "<matplotlib.axes._subplots.AxesSubplot at 0x11c220250>"
      ]
     },
     "execution_count": 61,
     "metadata": {},
     "output_type": "execute_result"
    },
    {
     "data": {
      "image/png": "[encoded data removed]",
      "text/plain": [
       "<matplotlib.figure.Figure at 0x11c08cf10>"
      ]
     },
     "metadata": {},
     "output_type": "display_data"
    }
   ],
   "source": [
    "color = ['r', 'g']\n",
    "\n",
    "df.groupby('funded_month').status.value_counts(normalize = True).sort_index().plot(kind = 'bar', color = color, figsize=(20, 6))"
   ]
  },
  {
   "cell_type": "code",
   "execution_count": 62,
   "metadata": {
    "scrolled": true
   },
   "outputs": [
    {
     "data": {
      "text/plain": [
       "<matplotlib.axes._subplots.AxesSubplot at 0x11e024850>"
      ]
     },
     "execution_count": 62,
     "metadata": {},
     "output_type": "execute_result"
    },
    {
     "data": {
      "image/png": "[encoded data removed]",
      "text/plain": [
       "<matplotlib.figure.Figure at 0x11e03ab50>"
      ]
     },
     "metadata": {},
     "output_type": "display_data"
    }
   ],
   "source": [
    "color = ['r', 'g']\n",
    "\n",
    "df.groupby('category').status.value_counts(normalize = True).sort_index().plot(kind = 'bar', color = color, figsize=(20, 6))"
   ]
  },
  {
   "cell_type": "code",
   "execution_count": 63,
   "metadata": {},
   "outputs": [
    {
     "data": {
      "text/plain": [
       "<matplotlib.axes._subplots.AxesSubplot at 0x11e336910>"
      ]
     },
     "execution_count": 63,
     "metadata": {},
     "output_type": "execute_result"
    },
    {
     "data": {
      "image/png": "[encoded data removed]",
      "text/plain": [
       "<matplotlib.figure.Figure at 0x11e34ce50>"
      ]
     },
     "metadata": {},
     "output_type": "display_data"
    }
   ],
   "source": [
    "color = ['r', 'g']\n",
    "\n",
    "df.groupby('subcategory').status.value_counts(normalize = True).sort_index().plot(kind = 'bar', color = color, figsize=(20, 6))"
   ]
  },
  {
   "cell_type": "code",
   "execution_count": 64,
   "metadata": {},
   "outputs": [
    {
     "data": {
      "text/plain": [
       "<seaborn.axisgrid.FacetGrid at 0x11e046450>"
      ]
     },
     "execution_count": 64,
     "metadata": {},
     "output_type": "execute_result"
    },
    {
     "data": {
      "image/png": "[encoded data removed]",
      "text/plain": [
       "<matplotlib.figure.Figure at 0x11c0b3a50>"
      ]
     },
     "metadata": {},
     "output_type": "display_data"
    }
   ],
   "source": [
    "sns.factorplot(x='category', y='goal',data=df, hue='continent',kind='bar', size = 5, aspect=3)"
   ]
  },
  {
   "cell_type": "markdown",
   "metadata": {},
   "source": [
    "# Feature Engineering"
   ]
  },
  {
   "cell_type": "code",
   "execution_count": 65,
   "metadata": {},
   "outputs": [
    {
     "data": {
      "text/plain": [
       "10536.081276758046"
      ]
     },
     "execution_count": 65,
     "metadata": {},
     "output_type": "execute_result"
    }
   ],
   "source": [
    "df.goal.mean()"
   ]
  },
  {
   "cell_type": "code",
   "execution_count": 66,
   "metadata": {},
   "outputs": [
    {
     "data": {
      "text/plain": [
       "5203.06490822302"
      ]
     },
     "execution_count": 66,
     "metadata": {},
     "output_type": "execute_result"
    }
   ],
   "source": [
    "df.pledged.mean()"
   ]
  },
  {
   "cell_type": "code",
   "execution_count": 67,
   "metadata": {},
   "outputs": [
    {
     "data": {
      "text/plain": [
       "<matplotlib.text.Text at 0x120162ad0>"
      ]
     },
     "execution_count": 67,
     "metadata": {},
     "output_type": "execute_result"
    },
    {
     "data": {
      "image/png": "[encoded data removed]",
      "text/plain": [
       "<matplotlib.figure.Figure at 0x11e864e90>"
      ]
     },
     "metadata": {},
     "output_type": "display_data"
    }
   ],
   "source": [
    "color = ['r', 'g', 'b', 'y', 'm']\n",
    "df.groupby('continent').goal.mean().sort_index().plot(kind = 'bar', color = color)\n",
    "plt.title('Continent goal mean')\n",
    "plt.ylabel('goal_mean')\n",
    "plt.xlabel('continent')"
   ]
  },
  {
   "cell_type": "code",
   "execution_count": 68,
   "metadata": {},
   "outputs": [
    {
     "data": {
      "text/plain": [
       "<matplotlib.text.Text at 0x12022b890>"
      ]
     },
     "execution_count": 68,
     "metadata": {},
     "output_type": "execute_result"
    },
    {
     "data": {
      "image/png": "[encoded data removed]",
      "text/plain": [
       "<matplotlib.figure.Figure at 0x11e7c60d0>"
      ]
     },
     "metadata": {},
     "output_type": "display_data"
    }
   ],
   "source": [
    "color = ['r', 'g', 'b', 'y', 'm']\n",
    "df.groupby('continent').pledged.mean().sort_index().plot(kind = 'bar', color = color)\n",
    "plt.title('Continent pleadge mean')\n",
    "plt.ylabel('pledged_mean')\n",
    "plt.xlabel('continent')"
   ]
  },
  {
   "cell_type": "code",
   "execution_count": 69,
   "metadata": {
    "collapsed": true
   },
   "outputs": [],
   "source": [
    "# # df['status'] = df.status.str.contains('successful').astype(int)\n",
    "# # 1 = Succesful\n",
    "# # 0 = Failed\n",
    "\n",
    "# color = ['r', 'g', 'b', 'y', 'm']\n",
    "# df.groupby('continent').status.mean().sort_index().plot(kind = 'bar', color = color)"
   ]
  },
  {
   "cell_type": "code",
   "execution_count": 70,
   "metadata": {},
   "outputs": [
    {
     "data": {
      "text/plain": [
       "(289, 19)"
      ]
     },
     "execution_count": 70,
     "metadata": {},
     "output_type": "execute_result"
    }
   ],
   "source": [
    "df[df['goal']>100000].shape\n",
    "\n",
    "# only 289 projects had goals over $100,000."
   ]
  },
  {
   "cell_type": "code",
   "execution_count": 71,
   "metadata": {},
   "outputs": [
    {
     "data": {
      "text/plain": [
       "failed        0.923875\n",
       "successful    0.076125\n",
       "Name: status, dtype: float64"
      ]
     },
     "execution_count": 71,
     "metadata": {},
     "output_type": "execute_result"
    }
   ],
   "source": [
    "df[df['goal']>100000]['status'].value_counts(normalize = True) \n",
    "# and only 22 (less than 1%) of those projects got funded "
   ]
  },
  {
   "cell_type": "code",
   "execution_count": 72,
   "metadata": {},
   "outputs": [
    {
     "data": {
      "text/plain": [
       "failed        0.681743\n",
       "successful    0.318257\n",
       "Name: status, dtype: float64"
      ]
     },
     "execution_count": 72,
     "metadata": {},
     "output_type": "execute_result"
    }
   ],
   "source": [
    "# only 7296 projects had goals over $100,000.\n",
    "df[df['goal']>10000]['status'].value_counts(normalize = True) \n",
    "# and only 2322 (less than 32%) of those projects got funded "
   ]
  },
  {
   "cell_type": "code",
   "execution_count": 73,
   "metadata": {},
   "outputs": [
    {
     "data": {
      "text/plain": [
       "successful    0.985714\n",
       "failed        0.014286\n",
       "Name: status, dtype: float64"
      ]
     },
     "execution_count": 73,
     "metadata": {},
     "output_type": "execute_result"
    }
   ],
   "source": [
    "# Over 98% of projects with a pledged of over $100,000 were succesful\n",
    "df[df['pledged']>100000]['status'].value_counts(normalize = True) "
   ]
  },
  {
   "cell_type": "code",
   "execution_count": 74,
   "metadata": {},
   "outputs": [
    {
     "data": {
      "text/plain": [
       "<seaborn.axisgrid.FacetGrid at 0x11e7d4490>"
      ]
     },
     "execution_count": 74,
     "metadata": {},
     "output_type": "execute_result"
    },
    {
     "data": {
      "image/png": "[encoded data removed]",
      "text/plain": [
       "<matplotlib.figure.Figure at 0x1162ee850>"
      ]
     },
     "metadata": {},
     "output_type": "display_data"
    }
   ],
   "source": [
    "df['loggoal'] = np.log10(df['goal'])\n",
    "sns.lmplot(x = 'loggoal', y = 'pledged', col ='status', data = df, fit_reg = False)"
   ]
  },
  {
   "cell_type": "code",
   "execution_count": 75,
   "metadata": {},
   "outputs": [
    {
     "data": {
      "text/html": [
       "<div>\n",
       "<style>\n",
       "    .dataframe thead tr:only-child th {\n",
       "        text-align: right;\n",
       "    }\n",
       "\n",
       "    .dataframe thead th {\n",
       "        text-align: left;\n",
       "    }\n",
       "\n",
       "    .dataframe tbody tr th {\n",
       "        vertical-align: top;\n",
       "    }\n",
       "</style>\n",
       "<table border=\"1\" class=\"dataframe\">\n",
       "  <thead>\n",
       "    <tr style=\"text-align: right;\">\n",
       "      <th></th>\n",
       "      <th>category</th>\n",
       "      <th>subcategory</th>\n",
       "      <th>status</th>\n",
       "      <th>goal</th>\n",
       "      <th>pledged</th>\n",
       "      <th>funded_percentage</th>\n",
       "      <th>backers</th>\n",
       "      <th>levels</th>\n",
       "      <th>updates</th>\n",
       "      <th>comments</th>\n",
       "      <th>duration</th>\n",
       "      <th>funded_day</th>\n",
       "      <th>funded_Newdate</th>\n",
       "      <th>funded_month</th>\n",
       "      <th>day_of_month</th>\n",
       "      <th>city</th>\n",
       "      <th>state</th>\n",
       "      <th>Country</th>\n",
       "      <th>continent</th>\n",
       "      <th>loggoal</th>\n",
       "    </tr>\n",
       "  </thead>\n",
       "  <tbody>\n",
       "    <tr>\n",
       "      <th>0</th>\n",
       "      <td>Film &amp; Video</td>\n",
       "      <td>Short Film</td>\n",
       "      <td>successful</td>\n",
       "      <td>10500.0</td>\n",
       "      <td>11545.0</td>\n",
       "      <td>1.099524</td>\n",
       "      <td>66</td>\n",
       "      <td>7</td>\n",
       "      <td>10</td>\n",
       "      <td>2</td>\n",
       "      <td>30.00</td>\n",
       "      <td>Fri</td>\n",
       "      <td>2011-08-19</td>\n",
       "      <td>8</td>\n",
       "      <td>19</td>\n",
       "      <td>Columbia</td>\n",
       "      <td>MO</td>\n",
       "      <td>United States</td>\n",
       "      <td>America</td>\n",
       "      <td>4.021189</td>\n",
       "    </tr>\n",
       "    <tr>\n",
       "      <th>1</th>\n",
       "      <td>Games</td>\n",
       "      <td>Board &amp; Card Games</td>\n",
       "      <td>failed</td>\n",
       "      <td>4000.0</td>\n",
       "      <td>20.0</td>\n",
       "      <td>0.005000</td>\n",
       "      <td>2</td>\n",
       "      <td>5</td>\n",
       "      <td>6</td>\n",
       "      <td>0</td>\n",
       "      <td>47.18</td>\n",
       "      <td>Mon</td>\n",
       "      <td>2010-08-02</td>\n",
       "      <td>8</td>\n",
       "      <td>2</td>\n",
       "      <td>Maplewood</td>\n",
       "      <td>NJ</td>\n",
       "      <td>United States</td>\n",
       "      <td>America</td>\n",
       "      <td>3.602060</td>\n",
       "    </tr>\n",
       "    <tr>\n",
       "      <th>3</th>\n",
       "      <td>Film &amp; Video</td>\n",
       "      <td>Documentary</td>\n",
       "      <td>successful</td>\n",
       "      <td>6000.0</td>\n",
       "      <td>6535.0</td>\n",
       "      <td>1.089167</td>\n",
       "      <td>100</td>\n",
       "      <td>13</td>\n",
       "      <td>4</td>\n",
       "      <td>0</td>\n",
       "      <td>32.22</td>\n",
       "      <td>Sun</td>\n",
       "      <td>2012-04-08</td>\n",
       "      <td>4</td>\n",
       "      <td>8</td>\n",
       "      <td>Los Angeles</td>\n",
       "      <td>CA</td>\n",
       "      <td>United States</td>\n",
       "      <td>America</td>\n",
       "      <td>3.778151</td>\n",
       "    </tr>\n",
       "    <tr>\n",
       "      <th>4</th>\n",
       "      <td>Fashion</td>\n",
       "      <td>Fashion</td>\n",
       "      <td>failed</td>\n",
       "      <td>3500.0</td>\n",
       "      <td>0.0</td>\n",
       "      <td>0.000000</td>\n",
       "      <td>0</td>\n",
       "      <td>6</td>\n",
       "      <td>2</td>\n",
       "      <td>0</td>\n",
       "      <td>30.00</td>\n",
       "      <td>Wed</td>\n",
       "      <td>2011-06-01</td>\n",
       "      <td>6</td>\n",
       "      <td>1</td>\n",
       "      <td>Novi</td>\n",
       "      <td>MI</td>\n",
       "      <td>United States</td>\n",
       "      <td>America</td>\n",
       "      <td>3.544068</td>\n",
       "    </tr>\n",
       "    <tr>\n",
       "      <th>5</th>\n",
       "      <td>Film &amp; Video</td>\n",
       "      <td>Short Film</td>\n",
       "      <td>successful</td>\n",
       "      <td>3500.0</td>\n",
       "      <td>3582.0</td>\n",
       "      <td>1.023331</td>\n",
       "      <td>39</td>\n",
       "      <td>7</td>\n",
       "      <td>8</td>\n",
       "      <td>0</td>\n",
       "      <td>21.43</td>\n",
       "      <td>Wed</td>\n",
       "      <td>2011-06-22</td>\n",
       "      <td>6</td>\n",
       "      <td>22</td>\n",
       "      <td>Portland</td>\n",
       "      <td>OR</td>\n",
       "      <td>United States</td>\n",
       "      <td>America</td>\n",
       "      <td>3.544068</td>\n",
       "    </tr>\n",
       "  </tbody>\n",
       "</table>\n",
       "</div>"
      ],
      "text/plain": [
       "       category         subcategory      status     goal  pledged  \\\n",
       "0  Film & Video          Short Film  successful  10500.0  11545.0   \n",
       "1         Games  Board & Card Games      failed   4000.0     20.0   \n",
       "3  Film & Video         Documentary  successful   6000.0   6535.0   \n",
       "4       Fashion             Fashion      failed   3500.0      0.0   \n",
       "5  Film & Video          Short Film  successful   3500.0   3582.0   \n",
       "\n",
       "   funded_percentage  backers  levels  updates  comments  duration funded_day  \\\n",
       "0           1.099524       66       7       10         2     30.00        Fri   \n",
       "1           0.005000        2       5        6         0     47.18        Mon   \n",
       "3           1.089167      100      13        4         0     32.22        Sun   \n",
       "4           0.000000        0       6        2         0     30.00        Wed   \n",
       "5           1.023331       39       7        8         0     21.43        Wed   \n",
       "\n",
       "  funded_Newdate  funded_month  day_of_month         city state  \\\n",
       "0     2011-08-19             8            19     Columbia    MO   \n",
       "1     2010-08-02             8             2    Maplewood    NJ   \n",
       "3     2012-04-08             4             8  Los Angeles    CA   \n",
       "4     2011-06-01             6             1         Novi    MI   \n",
       "5     2011-06-22             6            22     Portland    OR   \n",
       "\n",
       "         Country continent   loggoal  \n",
       "0  United States   America  4.021189  \n",
       "1  United States   America  3.602060  \n",
       "3  United States   America  3.778151  \n",
       "4  United States   America  3.544068  \n",
       "5  United States   America  3.544068  "
      ]
     },
     "execution_count": 75,
     "metadata": {},
     "output_type": "execute_result"
    }
   ],
   "source": [
    "df.head()"
   ]
  },
  {
   "cell_type": "code",
   "execution_count": 76,
   "metadata": {},
   "outputs": [
    {
     "data": {
      "text/plain": [
       "<matplotlib.text.Text at 0x120bd1910>"
      ]
     },
     "execution_count": 76,
     "metadata": {},
     "output_type": "execute_result"
    },
    {
     "data": {
      "image/png": "[encoded data removed]",
      "text/plain": [
       "<matplotlib.figure.Figure at 0x12086fe90>"
      ]
     },
     "metadata": {},
     "output_type": "display_data"
    }
   ],
   "source": [
    "plt.figure(figsize = (6,6))\n",
    "sns.boxplot(x ='status', y = 'loggoal', data = df)\n",
    "plt.title('Successful Kickstarters have on average lower Goals')"
   ]
  },
  {
   "cell_type": "code",
   "execution_count": 77,
   "metadata": {},
   "outputs": [
    {
     "data": {
      "text/plain": [
       "<matplotlib.axes._subplots.AxesSubplot at 0x120c28510>"
      ]
     },
     "execution_count": 77,
     "metadata": {},
     "output_type": "execute_result"
    },
    {
     "data": {
      "image/png": "[encoded data removed]",
      "text/plain": [
       "<matplotlib.figure.Figure at 0x1202c3ed0>"
      ]
     },
     "metadata": {},
     "output_type": "display_data"
    }
   ],
   "source": [
    "# Number of Projects lunch each month\n",
    "\n",
    "sns.countplot(x='funded_month',data=df)"
   ]
  },
  {
   "cell_type": "code",
   "execution_count": 78,
   "metadata": {},
   "outputs": [
    {
     "data": {
      "text/plain": [
       "<matplotlib.text.Text at 0x120c28a90>"
      ]
     },
     "execution_count": 78,
     "metadata": {},
     "output_type": "execute_result"
    },
    {
     "data": {
      "image/png": "[encoded data removed]",
      "text/plain": [
       "<matplotlib.figure.Figure at 0x120ae6c90>"
      ]
     },
     "metadata": {},
     "output_type": "display_data"
    }
   ],
   "source": [
    "color = ['r', 'g']\n",
    "\n",
    "df.groupby('funded_month').status.value_counts(normalize = True).sort_index().plot(kind = 'bar',color = color, figsize=(20, 6))\n",
    "plt.title('funded month vs status(percentage)')\n",
    "plt.ylabel('status percentage')\n",
    "plt.xlabel('funded_month')"
   ]
  },
  {
   "cell_type": "code",
   "execution_count": 79,
   "metadata": {},
   "outputs": [
    {
     "data": {
      "text/plain": [
       "<matplotlib.axes._subplots.AxesSubplot at 0x11ceebb10>"
      ]
     },
     "execution_count": 79,
     "metadata": {},
     "output_type": "execute_result"
    },
    {
     "data": {
      "image/png": "[encoded data removed]",
      "text/plain": [
       "<matplotlib.figure.Figure at 0x120af2910>"
      ]
     },
     "metadata": {},
     "output_type": "display_data"
    }
   ],
   "source": [
    "df.category.value_counts(normalize = True).plot(kind = 'pie', figsize=(9, 6))"
   ]
  },
  {
   "cell_type": "code",
   "execution_count": 80,
   "metadata": {},
   "outputs": [
    {
     "data": {
      "text/html": [
       "<div>\n",
       "<style>\n",
       "    .dataframe thead tr:only-child th {\n",
       "        text-align: right;\n",
       "    }\n",
       "\n",
       "    .dataframe thead th {\n",
       "        text-align: left;\n",
       "    }\n",
       "\n",
       "    .dataframe tbody tr th {\n",
       "        vertical-align: top;\n",
       "    }\n",
       "</style>\n",
       "<table border=\"1\" class=\"dataframe\">\n",
       "  <thead>\n",
       "    <tr style=\"text-align: right;\">\n",
       "      <th></th>\n",
       "      <th>category</th>\n",
       "      <th>subcategory</th>\n",
       "      <th>status</th>\n",
       "      <th>goal</th>\n",
       "      <th>pledged</th>\n",
       "      <th>funded_percentage</th>\n",
       "      <th>backers</th>\n",
       "      <th>levels</th>\n",
       "      <th>updates</th>\n",
       "      <th>comments</th>\n",
       "      <th>duration</th>\n",
       "      <th>funded_day</th>\n",
       "      <th>funded_Newdate</th>\n",
       "      <th>funded_month</th>\n",
       "      <th>day_of_month</th>\n",
       "      <th>city</th>\n",
       "      <th>state</th>\n",
       "      <th>Country</th>\n",
       "      <th>continent</th>\n",
       "      <th>loggoal</th>\n",
       "    </tr>\n",
       "  </thead>\n",
       "  <tbody>\n",
       "    <tr>\n",
       "      <th>0</th>\n",
       "      <td>Film &amp; Video</td>\n",
       "      <td>Short Film</td>\n",
       "      <td>successful</td>\n",
       "      <td>10500.0</td>\n",
       "      <td>11545.0</td>\n",
       "      <td>1.099524</td>\n",
       "      <td>66</td>\n",
       "      <td>7</td>\n",
       "      <td>10</td>\n",
       "      <td>2</td>\n",
       "      <td>30.00</td>\n",
       "      <td>Fri</td>\n",
       "      <td>2011-08-19</td>\n",
       "      <td>8</td>\n",
       "      <td>19</td>\n",
       "      <td>Columbia</td>\n",
       "      <td>MO</td>\n",
       "      <td>United States</td>\n",
       "      <td>America</td>\n",
       "      <td>4.021189</td>\n",
       "    </tr>\n",
       "    <tr>\n",
       "      <th>1</th>\n",
       "      <td>Games</td>\n",
       "      <td>Board &amp; Card Games</td>\n",
       "      <td>failed</td>\n",
       "      <td>4000.0</td>\n",
       "      <td>20.0</td>\n",
       "      <td>0.005000</td>\n",
       "      <td>2</td>\n",
       "      <td>5</td>\n",
       "      <td>6</td>\n",
       "      <td>0</td>\n",
       "      <td>47.18</td>\n",
       "      <td>Mon</td>\n",
       "      <td>2010-08-02</td>\n",
       "      <td>8</td>\n",
       "      <td>2</td>\n",
       "      <td>Maplewood</td>\n",
       "      <td>NJ</td>\n",
       "      <td>United States</td>\n",
       "      <td>America</td>\n",
       "      <td>3.602060</td>\n",
       "    </tr>\n",
       "    <tr>\n",
       "      <th>3</th>\n",
       "      <td>Film &amp; Video</td>\n",
       "      <td>Documentary</td>\n",
       "      <td>successful</td>\n",
       "      <td>6000.0</td>\n",
       "      <td>6535.0</td>\n",
       "      <td>1.089167</td>\n",
       "      <td>100</td>\n",
       "      <td>13</td>\n",
       "      <td>4</td>\n",
       "      <td>0</td>\n",
       "      <td>32.22</td>\n",
       "      <td>Sun</td>\n",
       "      <td>2012-04-08</td>\n",
       "      <td>4</td>\n",
       "      <td>8</td>\n",
       "      <td>Los Angeles</td>\n",
       "      <td>CA</td>\n",
       "      <td>United States</td>\n",
       "      <td>America</td>\n",
       "      <td>3.778151</td>\n",
       "    </tr>\n",
       "    <tr>\n",
       "      <th>4</th>\n",
       "      <td>Fashion</td>\n",
       "      <td>Fashion</td>\n",
       "      <td>failed</td>\n",
       "      <td>3500.0</td>\n",
       "      <td>0.0</td>\n",
       "      <td>0.000000</td>\n",
       "      <td>0</td>\n",
       "      <td>6</td>\n",
       "      <td>2</td>\n",
       "      <td>0</td>\n",
       "      <td>30.00</td>\n",
       "      <td>Wed</td>\n",
       "      <td>2011-06-01</td>\n",
       "      <td>6</td>\n",
       "      <td>1</td>\n",
       "      <td>Novi</td>\n",
       "      <td>MI</td>\n",
       "      <td>United States</td>\n",
       "      <td>America</td>\n",
       "      <td>3.544068</td>\n",
       "    </tr>\n",
       "    <tr>\n",
       "      <th>5</th>\n",
       "      <td>Film &amp; Video</td>\n",
       "      <td>Short Film</td>\n",
       "      <td>successful</td>\n",
       "      <td>3500.0</td>\n",
       "      <td>3582.0</td>\n",
       "      <td>1.023331</td>\n",
       "      <td>39</td>\n",
       "      <td>7</td>\n",
       "      <td>8</td>\n",
       "      <td>0</td>\n",
       "      <td>21.43</td>\n",
       "      <td>Wed</td>\n",
       "      <td>2011-06-22</td>\n",
       "      <td>6</td>\n",
       "      <td>22</td>\n",
       "      <td>Portland</td>\n",
       "      <td>OR</td>\n",
       "      <td>United States</td>\n",
       "      <td>America</td>\n",
       "      <td>3.544068</td>\n",
       "    </tr>\n",
       "  </tbody>\n",
       "</table>\n",
       "</div>"
      ],
      "text/plain": [
       "       category         subcategory      status     goal  pledged  \\\n",
       "0  Film & Video          Short Film  successful  10500.0  11545.0   \n",
       "1         Games  Board & Card Games      failed   4000.0     20.0   \n",
       "3  Film & Video         Documentary  successful   6000.0   6535.0   \n",
       "4       Fashion             Fashion      failed   3500.0      0.0   \n",
       "5  Film & Video          Short Film  successful   3500.0   3582.0   \n",
       "\n",
       "   funded_percentage  backers  levels  updates  comments  duration funded_day  \\\n",
       "0           1.099524       66       7       10         2     30.00        Fri   \n",
       "1           0.005000        2       5        6         0     47.18        Mon   \n",
       "3           1.089167      100      13        4         0     32.22        Sun   \n",
       "4           0.000000        0       6        2         0     30.00        Wed   \n",
       "5           1.023331       39       7        8         0     21.43        Wed   \n",
       "\n",
       "  funded_Newdate  funded_month  day_of_month         city state  \\\n",
       "0     2011-08-19             8            19     Columbia    MO   \n",
       "1     2010-08-02             8             2    Maplewood    NJ   \n",
       "3     2012-04-08             4             8  Los Angeles    CA   \n",
       "4     2011-06-01             6             1         Novi    MI   \n",
       "5     2011-06-22             6            22     Portland    OR   \n",
       "\n",
       "         Country continent   loggoal  \n",
       "0  United States   America  4.021189  \n",
       "1  United States   America  3.602060  \n",
       "3  United States   America  3.778151  \n",
       "4  United States   America  3.544068  \n",
       "5  United States   America  3.544068  "
      ]
     },
     "execution_count": 80,
     "metadata": {},
     "output_type": "execute_result"
    }
   ],
   "source": [
    "df.head()"
   ]
  },
  {
   "cell_type": "code",
   "execution_count": 81,
   "metadata": {},
   "outputs": [
    {
     "data": {
      "text/plain": [
       "194818571.0"
      ]
     },
     "execution_count": 81,
     "metadata": {},
     "output_type": "execute_result"
    }
   ],
   "source": [
    "# sum of successful project\n",
    "df[df['status']=='successful']['pledged'].sum()"
   ]
  },
  {
   "cell_type": "code",
   "execution_count": 82,
   "metadata": {},
   "outputs": [
    {
     "data": {
      "text/plain": [
       "1.494208916083916"
      ]
     },
     "execution_count": 82,
     "metadata": {},
     "output_type": "execute_result"
    }
   ],
   "source": [
    "# Avg updates for failed projects\n",
    "df[df['status']=='failed']['updates'].mean()"
   ]
  },
  {
   "cell_type": "code",
   "execution_count": 83,
   "metadata": {},
   "outputs": [
    {
     "data": {
      "text/plain": [
       "37.629774375503345"
      ]
     },
     "execution_count": 83,
     "metadata": {},
     "output_type": "execute_result"
    }
   ],
   "source": [
    "# Avg duration for successful projects\n",
    "df[df['status']=='successful']['duration'].mean()"
   ]
  },
  {
   "cell_type": "code",
   "execution_count": 84,
   "metadata": {},
   "outputs": [
    {
     "data": {
      "text/plain": [
       "72.1746961271591"
      ]
     },
     "execution_count": 84,
     "metadata": {},
     "output_type": "execute_result"
    }
   ],
   "source": [
    "df.backers.mean()"
   ]
  },
  {
   "cell_type": "code",
   "execution_count": 85,
   "metadata": {},
   "outputs": [
    {
     "data": {
      "text/plain": [
       "120.90196078431373"
      ]
     },
     "execution_count": 85,
     "metadata": {},
     "output_type": "execute_result"
    }
   ],
   "source": [
    "df[df['status']=='successful']['backers'].mean()"
   ]
  },
  {
   "cell_type": "code",
   "execution_count": 86,
   "metadata": {},
   "outputs": [
    {
     "data": {
      "text/plain": [
       "6.047315584862949"
      ]
     },
     "execution_count": 86,
     "metadata": {},
     "output_type": "execute_result"
    }
   ],
   "source": [
    "df.funded_month.mean()"
   ]
  },
  {
   "cell_type": "code",
   "execution_count": 87,
   "metadata": {},
   "outputs": [
    {
     "data": {
      "text/plain": [
       "<matplotlib.axes._subplots.AxesSubplot at 0x11f5aa550>"
      ]
     },
     "execution_count": 87,
     "metadata": {},
     "output_type": "execute_result"
    },
    {
     "data": {
      "image/png": "[encoded data removed]",
      "text/plain": [
       "<matplotlib.figure.Figure at 0x11ce6d490>"
      ]
     },
     "metadata": {},
     "output_type": "display_data"
    }
   ],
   "source": [
    "df.groupby('status').duration.mean().sort_index().plot(kind = 'box', figsize=(10, 6))"
   ]
  },
  {
   "cell_type": "code",
   "execution_count": 103,
   "metadata": {},
   "outputs": [
    {
     "data": {
      "text/plain": [
       "<matplotlib.axes._subplots.AxesSubplot at 0x121503290>"
      ]
     },
     "execution_count": 103,
     "metadata": {},
     "output_type": "execute_result"
    },
    {
     "data": {
      "image/png": "[encoded data removed]",
      "text/plain": [
       "<matplotlib.figure.Figure at 0x11d1b1a10>"
      ]
     },
     "metadata": {},
     "output_type": "display_data"
    }
   ],
   "source": [
    "df[df['status']=='successful']['category'].value_counts().sort_index().plot(kind = 'bar', figsize=(12, 6))"
   ]
  },
  {
   "cell_type": "code",
   "execution_count": 109,
   "metadata": {},
   "outputs": [
    {
     "data": {
      "text/plain": [
       "<matplotlib.axes._subplots.AxesSubplot at 0x121982590>"
      ]
     },
     "execution_count": 109,
     "metadata": {},
     "output_type": "execute_result"
    },
    {
     "data": {
      "image/png": "[encoded data removed]",
      "text/plain": [
       "<matplotlib.figure.Figure at 0x12164f410>"
      ]
     },
     "metadata": {},
     "output_type": "display_data"
    }
   ],
   "source": [
    "df[df['status']=='failed']['category'].value_counts().sort_index().plot(kind = 'bar', figsize=(12, 6))"
   ]
  },
  {
   "cell_type": "code",
   "execution_count": 99,
   "metadata": {},
   "outputs": [
    {
     "data": {
      "text/plain": [
       "8721.397215507208"
      ]
     },
     "execution_count": 99,
     "metadata": {},
     "output_type": "execute_result"
    }
   ],
   "source": [
    "df[df['status']=='successful']['pledged'].mean()"
   ]
  },
  {
   "cell_type": "code",
   "execution_count": 100,
   "metadata": {},
   "outputs": [
    {
     "data": {
      "text/plain": [
       "5203.06490822302"
      ]
     },
     "execution_count": 100,
     "metadata": {},
     "output_type": "execute_result"
    }
   ],
   "source": [
    "df.pledged.mean()"
   ]
  },
  {
   "cell_type": "code",
   "execution_count": 115,
   "metadata": {},
   "outputs": [
    {
     "data": {
      "text/plain": [
       "<matplotlib.axes._subplots.AxesSubplot at 0x1231029d0>"
      ]
     },
     "execution_count": 115,
     "metadata": {},
     "output_type": "execute_result"
    },
    {
     "data": {
      "image/png": "[encoded data removed]",
      "text/plain": [
       "<matplotlib.figure.Figure at 0x122920710>"
      ]
     },
     "metadata": {},
     "output_type": "display_data"
    }
   ],
   "source": [
    "df[df['status']=='successful']['state'].value_counts().sort_index().plot(kind = 'bar', figsize=(12, 6))"
   ]
  },
  {
   "cell_type": "code",
   "execution_count": 118,
   "metadata": {
    "collapsed": true
   },
   "outputs": [],
   "source": [
    "df['status_'] = df.status.map(lambda x:1 if x=='successful'else 0)"
   ]
  },
  {
   "cell_type": "code",
   "execution_count": 119,
   "metadata": {},
   "outputs": [
    {
     "data": {
      "text/html": [
       "<div>\n",
       "<style>\n",
       "    .dataframe thead tr:only-child th {\n",
       "        text-align: right;\n",
       "    }\n",
       "\n",
       "    .dataframe thead th {\n",
       "        text-align: left;\n",
       "    }\n",
       "\n",
       "    .dataframe tbody tr th {\n",
       "        vertical-align: top;\n",
       "    }\n",
       "</style>\n",
       "<table border=\"1\" class=\"dataframe\">\n",
       "  <thead>\n",
       "    <tr style=\"text-align: right;\">\n",
       "      <th></th>\n",
       "      <th>category</th>\n",
       "      <th>subcategory</th>\n",
       "      <th>status</th>\n",
       "      <th>goal</th>\n",
       "      <th>pledged</th>\n",
       "      <th>funded_percentage</th>\n",
       "      <th>backers</th>\n",
       "      <th>levels</th>\n",
       "      <th>updates</th>\n",
       "      <th>comments</th>\n",
       "      <th>...</th>\n",
       "      <th>funded_Newdate</th>\n",
       "      <th>funded_month</th>\n",
       "      <th>day_of_month</th>\n",
       "      <th>city</th>\n",
       "      <th>state</th>\n",
       "      <th>Country</th>\n",
       "      <th>continent</th>\n",
       "      <th>loggoal</th>\n",
       "      <th>status_#</th>\n",
       "      <th>status_</th>\n",
       "    </tr>\n",
       "  </thead>\n",
       "  <tbody>\n",
       "    <tr>\n",
       "      <th>0</th>\n",
       "      <td>Film &amp; Video</td>\n",
       "      <td>Short Film</td>\n",
       "      <td>successful</td>\n",
       "      <td>10500.0</td>\n",
       "      <td>11545.0</td>\n",
       "      <td>1.099524</td>\n",
       "      <td>66</td>\n",
       "      <td>7</td>\n",
       "      <td>10</td>\n",
       "      <td>2</td>\n",
       "      <td>...</td>\n",
       "      <td>2011-08-19</td>\n",
       "      <td>8</td>\n",
       "      <td>19</td>\n",
       "      <td>Columbia</td>\n",
       "      <td>MO</td>\n",
       "      <td>United States</td>\n",
       "      <td>America</td>\n",
       "      <td>4.021189</td>\n",
       "      <td>1</td>\n",
       "      <td>1</td>\n",
       "    </tr>\n",
       "    <tr>\n",
       "      <th>1</th>\n",
       "      <td>Games</td>\n",
       "      <td>Board &amp; Card Games</td>\n",
       "      <td>failed</td>\n",
       "      <td>4000.0</td>\n",
       "      <td>20.0</td>\n",
       "      <td>0.005000</td>\n",
       "      <td>2</td>\n",
       "      <td>5</td>\n",
       "      <td>6</td>\n",
       "      <td>0</td>\n",
       "      <td>...</td>\n",
       "      <td>2010-08-02</td>\n",
       "      <td>8</td>\n",
       "      <td>2</td>\n",
       "      <td>Maplewood</td>\n",
       "      <td>NJ</td>\n",
       "      <td>United States</td>\n",
       "      <td>America</td>\n",
       "      <td>3.602060</td>\n",
       "      <td>0</td>\n",
       "      <td>0</td>\n",
       "    </tr>\n",
       "    <tr>\n",
       "      <th>3</th>\n",
       "      <td>Film &amp; Video</td>\n",
       "      <td>Documentary</td>\n",
       "      <td>successful</td>\n",
       "      <td>6000.0</td>\n",
       "      <td>6535.0</td>\n",
       "      <td>1.089167</td>\n",
       "      <td>100</td>\n",
       "      <td>13</td>\n",
       "      <td>4</td>\n",
       "      <td>0</td>\n",
       "      <td>...</td>\n",
       "      <td>2012-04-08</td>\n",
       "      <td>4</td>\n",
       "      <td>8</td>\n",
       "      <td>Los Angeles</td>\n",
       "      <td>CA</td>\n",
       "      <td>United States</td>\n",
       "      <td>America</td>\n",
       "      <td>3.778151</td>\n",
       "      <td>1</td>\n",
       "      <td>1</td>\n",
       "    </tr>\n",
       "    <tr>\n",
       "      <th>4</th>\n",
       "      <td>Fashion</td>\n",
       "      <td>Fashion</td>\n",
       "      <td>failed</td>\n",
       "      <td>3500.0</td>\n",
       "      <td>0.0</td>\n",
       "      <td>0.000000</td>\n",
       "      <td>0</td>\n",
       "      <td>6</td>\n",
       "      <td>2</td>\n",
       "      <td>0</td>\n",
       "      <td>...</td>\n",
       "      <td>2011-06-01</td>\n",
       "      <td>6</td>\n",
       "      <td>1</td>\n",
       "      <td>Novi</td>\n",
       "      <td>MI</td>\n",
       "      <td>United States</td>\n",
       "      <td>America</td>\n",
       "      <td>3.544068</td>\n",
       "      <td>0</td>\n",
       "      <td>0</td>\n",
       "    </tr>\n",
       "    <tr>\n",
       "      <th>5</th>\n",
       "      <td>Film &amp; Video</td>\n",
       "      <td>Short Film</td>\n",
       "      <td>successful</td>\n",
       "      <td>3500.0</td>\n",
       "      <td>3582.0</td>\n",
       "      <td>1.023331</td>\n",
       "      <td>39</td>\n",
       "      <td>7</td>\n",
       "      <td>8</td>\n",
       "      <td>0</td>\n",
       "      <td>...</td>\n",
       "      <td>2011-06-22</td>\n",
       "      <td>6</td>\n",
       "      <td>22</td>\n",
       "      <td>Portland</td>\n",
       "      <td>OR</td>\n",
       "      <td>United States</td>\n",
       "      <td>America</td>\n",
       "      <td>3.544068</td>\n",
       "      <td>1</td>\n",
       "      <td>1</td>\n",
       "    </tr>\n",
       "  </tbody>\n",
       "</table>\n",
       "<p>5 rows × 22 columns</p>\n",
       "</div>"
      ],
      "text/plain": [
       "       category         subcategory      status     goal  pledged  \\\n",
       "0  Film & Video          Short Film  successful  10500.0  11545.0   \n",
       "1         Games  Board & Card Games      failed   4000.0     20.0   \n",
       "3  Film & Video         Documentary  successful   6000.0   6535.0   \n",
       "4       Fashion             Fashion      failed   3500.0      0.0   \n",
       "5  Film & Video          Short Film  successful   3500.0   3582.0   \n",
       "\n",
       "   funded_percentage  backers  levels  updates  comments   ...     \\\n",
       "0           1.099524       66       7       10         2   ...      \n",
       "1           0.005000        2       5        6         0   ...      \n",
       "3           1.089167      100      13        4         0   ...      \n",
       "4           0.000000        0       6        2         0   ...      \n",
       "5           1.023331       39       7        8         0   ...      \n",
       "\n",
       "   funded_Newdate funded_month day_of_month         city  state  \\\n",
       "0      2011-08-19            8           19     Columbia     MO   \n",
       "1      2010-08-02            8            2    Maplewood     NJ   \n",
       "3      2012-04-08            4            8  Los Angeles     CA   \n",
       "4      2011-06-01            6            1         Novi     MI   \n",
       "5      2011-06-22            6           22     Portland     OR   \n",
       "\n",
       "         Country continent   loggoal status_#  status_  \n",
       "0  United States   America  4.021189        1        1  \n",
       "1  United States   America  3.602060        0        0  \n",
       "3  United States   America  3.778151        1        1  \n",
       "4  United States   America  3.544068        0        0  \n",
       "5  United States   America  3.544068        1        1  \n",
       "\n",
       "[5 rows x 22 columns]"
      ]
     },
     "execution_count": 119,
     "metadata": {},
     "output_type": "execute_result"
    }
   ],
   "source": [
    "df.head()"
   ]
  },
  {
   "cell_type": "code",
   "execution_count": 124,
   "metadata": {},
   "outputs": [
    {
     "data": {
      "text/plain": [
       "<matplotlib.axes._subplots.AxesSubplot at 0x124011d90>"
      ]
     },
     "execution_count": 124,
     "metadata": {},
     "output_type": "execute_result"
    },
    {
     "data": {
      "image/png": "[encoded data removed]",
      "text/plain": [
       "<matplotlib.figure.Figure at 0x1242fae10>"
      ]
     },
     "metadata": {},
     "output_type": "display_data"
    }
   ],
   "source": [
    "# Success percentage per category\n",
    "df.groupby('category').status_.mean().sort_index().plot(kind = 'bar', figsize=(12, 6))"
   ]
  },
  {
   "cell_type": "code",
   "execution_count": 127,
   "metadata": {},
   "outputs": [
    {
     "data": {
      "text/plain": [
       "category\n",
       "Art                 0.573784\n",
       "Comics              0.543991\n",
       "Dance               0.752533\n",
       "Design              0.468140\n",
       "Fashion             0.329000\n",
       "Film & Video        0.543182\n",
       "Film &amp; Video    0.511159\n",
       "Food                0.508661\n",
       "Games               0.433099\n",
       "Music               0.677360\n",
       "Photography         0.458398\n",
       "Publishing          0.399094\n",
       "Technology          0.395150\n",
       "Theater             0.709536\n",
       "Name: status_, dtype: float64"
      ]
     },
     "execution_count": 127,
     "metadata": {},
     "output_type": "execute_result"
    }
   ],
   "source": [
    "df.groupby('category').status_.mean()"
   ]
  },
  {
   "cell_type": "code",
   "execution_count": 125,
   "metadata": {},
   "outputs": [
    {
     "data": {
      "text/plain": [
       "<matplotlib.axes._subplots.AxesSubplot at 0x12453ced0>"
      ]
     },
     "execution_count": 125,
     "metadata": {},
     "output_type": "execute_result"
    },
    {
     "data": {
      "image/png": "[encoded data removed]",
      "text/plain": [
       "<matplotlib.figure.Figure at 0x1244c5fd0>"
      ]
     },
     "metadata": {},
     "output_type": "display_data"
    }
   ],
   "source": [
    "# Success percentage by states\n",
    "df.groupby('state').status_.mean().sort_index().plot(kind = 'bar', figsize=(15, 6))"
   ]
  },
  {
   "cell_type": "code",
   "execution_count": null,
   "metadata": {},
   "outputs": [],
   "source": [
    "# Success percentage by states\n",
    "df.groupby(['state', 'category']).status_.mean().sort_index().plot(kind = 'bar', figsize=(15, 6))"
   ]
  },
  {
   "cell_type": "code",
   "execution_count": null,
   "metadata": {
    "collapsed": true
   },
   "outputs": [],
   "source": []
  }
 ],
 "metadata": {
  "kernelspec": {
   "display_name": "Python 2",
   "language": "python",
   "name": "python2"
  },
  "language_info": {
   "codemirror_mode": {
    "name": "ipython",
    "version": 2
   },
   "file_extension": ".py",
   "mimetype": "text/x-python",
   "name": "python",
   "nbconvert_exporter": "python",
   "pygments_lexer": "ipython2",
   "version": "2.7.13"
  }
 },
 "nbformat": 4,
 "nbformat_minor": 2
}
